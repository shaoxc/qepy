{
 "cells": [
  {
   "cell_type": "code",
   "execution_count": null,
   "metadata": {
    "id": "Nt8QJjd4kCPU"
   },
   "outputs": [],
   "source": [
    "!pip install qepy"
   ]
  },
  {
   "cell_type": "code",
   "execution_count": null,
   "metadata": {
    "id": "H9epSvjvkEKr"
   },
   "outputs": [],
   "source": [
    "!pip install dftpy"
   ]
  },
  {
   "cell_type": "code",
   "execution_count": null,
   "metadata": {
    "id": "ixhWMjB2kFpC"
   },
   "outputs": [],
   "source": [
    "!git clone https://gitlab.com/shaoxc/qepy.git"
   ]
  },
  {
   "cell_type": "code",
   "execution_count": null,
   "metadata": {
    "id": "uINOdDZmCYFA"
   },
   "outputs": [],
   "source": [
    "%cd qepy/examples/jupyter/scf"
   ]
  },
  {
   "cell_type": "code",
   "execution_count": null,
   "metadata": {
    "id": "1AbRmyv-EBBA"
   },
   "outputs": [],
   "source": [
    "!python -m qepy --pw.x -i qe_in.in"
   ]
  },
  {
   "cell_type": "code",
   "execution_count": null,
   "metadata": {
    "id": "liznasPwEB2Q"
   },
   "outputs": [],
   "source": [
    "from qepy.driver import Driver"
   ]
  },
  {
   "cell_type": "code",
   "execution_count": null,
   "metadata": {
    "id": "3NLGAybSEvff"
   },
   "outputs": [],
   "source": [
    "driver = Driver('qe_in.in', logfile=True)"
   ]
  },
  {
   "cell_type": "code",
   "execution_count": null,
   "metadata": {
    "id": "hWWrJxMiExz8"
   },
   "outputs": [],
   "source": [
    "driver.scf()"
   ]
  },
  {
   "cell_type": "code",
   "execution_count": null,
   "metadata": {
    "id": "NWQ5MUNb1tUX"
   },
   "outputs": [],
   "source": [
    "driver.get_forces()"
   ]
  },
  {
   "cell_type": "code",
   "execution_count": null,
   "metadata": {
    "id": "WQ3Kt3Hj1uoY"
   },
   "outputs": [],
   "source": [
    "driver.get_stress()"
   ]
  }
 ],
 "metadata": {
  "colab": {
   "provenance": []
  },
  "kernelspec": {
   "display_name": "Python 3 (ipykernel)",
   "language": "python",
   "name": "python3"
  },
  "language_info": {
   "codemirror_mode": {
    "name": "ipython",
    "version": 3
   },
   "file_extension": ".py",
   "mimetype": "text/x-python",
   "name": "python",
   "nbconvert_exporter": "python",
   "pygments_lexer": "ipython3",
   "version": "3.10.12"
  }
 },
 "nbformat": 4,
 "nbformat_minor": 4
}
