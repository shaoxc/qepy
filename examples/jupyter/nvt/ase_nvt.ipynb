{
 "cells": [
  {
   "cell_type": "code",
   "execution_count": 1,
   "metadata": {},
   "outputs": [],
   "source": [
    "import qepy\n",
    "import numpy as np"
   ]
  },
  {
   "cell_type": "code",
   "execution_count": 2,
   "metadata": {},
   "outputs": [],
   "source": [
    "try:\n",
    "    from mpi4py import MPI\n",
    "    comm=MPI.COMM_WORLD\n",
    "except:\n",
    "    comm=None"
   ]
  },
  {
   "cell_type": "code",
   "execution_count": 3,
   "metadata": {},
   "outputs": [],
   "source": [
    "from qepy.calculator import QEpyCalculator\n",
    "import ase.io\n",
    "from ase.io.trajectory import Trajectory\n",
    "from ase import units\n",
    "from ase.md.andersen import Andersen\n",
    "from ase.md.velocitydistribution import MaxwellBoltzmannDistribution"
   ]
  },
  {
   "cell_type": "code",
   "execution_count": 4,
   "metadata": {},
   "outputs": [],
   "source": [
    "np.random.seed(2020)\n",
    "inputfile = 'qe_in.in'\n",
    "\n",
    "calc = QEpyCalculator(comm = comm, inputfile = inputfile, logfile='tmp.out')\n",
    "atoms = ase.io.read(inputfile, format='espresso-in')\n",
    "atoms.set_calculator(calc)\n",
    "\n",
    "T = 300\n",
    "MaxwellBoltzmannDistribution(atoms, temperature_K = T, force_temp=True)\n",
    "dyn = Andersen(atoms, 1.0 * units.fs, temperature_K = T, andersen_prob=0.02)"
   ]
  },
  {
   "cell_type": "code",
   "execution_count": 5,
   "metadata": {},
   "outputs": [],
   "source": [
    "step = 0\n",
    "interval = 1\n",
    "\n",
    "def printenergy(a=atoms):\n",
    "    global step, interval\n",
    "    epot = a.get_potential_energy() / len(a)\n",
    "    ekin = a.get_kinetic_energy() / len(a)\n",
    "    if a.calc.is_root :\n",
    "        print(\"Step={:<8d} Epot={:.5f} Ekin={:.5f} T={:.3f} Etot={:.5f}\".format(\n",
    "                step, epot, ekin, ekin / (1.5 * units.kB), epot + ekin, flush=True))\n",
    "    step += interval"
   ]
  },
  {
   "cell_type": "code",
   "execution_count": 6,
   "metadata": {},
   "outputs": [],
   "source": [
    "class WF(object):\n",
    "    def __init__(self, calc=None, kpt=0, band=3):\n",
    "        self.calc=calc\n",
    "        self.kpt=kpt\n",
    "        self.band=band\n",
    "        self.wf_prev=None\n",
    "        self.wf=None\n",
    "    def __call__(self, i=0, j=0):\n",
    "        wf = self.calc.get_wave_function(kpt=self.kpt, band=self.band)\n",
    "        if self.wf is None:\n",
    "            self.wf = wf\n",
    "            self.wf_prev = wf\n",
    "        else:\n",
    "            self.wf, self.wf_prev = self.wf_prev, self.wf\n",
    "            self.wf = wf\n",
    "        result=(self.wf_prev[i]*self.wf[j].conj()).sum()/len(self.wf[j])\n",
    "        \n",
    "        if comm:\n",
    "            result=comm.bcast(result)\n",
    "            if comm.rank==0:\n",
    "                print('WF:', result, flush=True)\n",
    "        else:\n",
    "            print('WF:', result, flush=True)\n",
    "        return result"
   ]
  },
  {
   "cell_type": "code",
   "execution_count": 7,
   "metadata": {},
   "outputs": [
    {
     "name": "stdout",
     "output_type": "stream",
     "text": [
      "Step=0        Epot=-154.42177 Ekin=0.03878 T=300.000 Etot=-154.38299\n",
      "WF: (0.9999999999999996+0j)\n",
      "Step=1        Epot=-154.42081 Ekin=0.01194 T=92.394 Etot=-154.40887\n",
      "WF: (-0.9999726574279622-7.673521706613103e-19j)\n",
      "Step=2        Epot=-154.41833 Ekin=0.01245 T=96.311 Etot=-154.40588\n",
      "WF: (-0.9999673595409732-7.315199499837329e-19j)\n",
      "Step=3        Epot=-154.41096 Ekin=0.00592 T=45.830 Etot=-154.40504\n",
      "WF: (0.9999717762356856-1.3291599087968908e-18j)\n",
      "Step=4        Epot=-154.41046 Ekin=0.00548 T=42.385 Etot=-154.40499\n",
      "WF: (0.9999736677099113+1.5435743955805773e-18j)\n",
      "Step=5        Epot=-154.41746 Ekin=0.01165 T=90.128 Etot=-154.40581\n",
      "WF: (-0.9999704199598747-1.92530451305456e-18j)\n"
     ]
    },
    {
     "data": {
      "text/plain": [
       "True"
      ]
     },
     "execution_count": 7,
     "metadata": {},
     "output_type": "execute_result"
    }
   ],
   "source": [
    "wf=WF(calc=calc, kpt=0, band=[3,4])\n",
    "traj = Trajectory(\"tmp.traj\", \"w\", atoms)\n",
    "dyn.attach(printenergy, interval=1)\n",
    "dyn.attach(traj.write, interval=1)\n",
    "dyn.attach(wf, interval=1)\n",
    "dyn.run(5)"
   ]
  }
 ],
 "metadata": {
  "kernelspec": {
   "display_name": "Python 3 (ipykernel)",
   "language": "python",
   "name": "python3"
  },
  "language_info": {
   "codemirror_mode": {
    "name": "ipython",
    "version": 3
   },
   "file_extension": ".py",
   "mimetype": "text/x-python",
   "name": "python",
   "nbconvert_exporter": "python",
   "pygments_lexer": "ipython3",
   "version": "3.10.12"
  },
  "varInspector": {
   "cols": {
    "lenName": 16,
    "lenType": 16,
    "lenVar": 40
   },
   "kernels_config": {
    "python": {
     "delete_cmd_postfix": "",
     "delete_cmd_prefix": "del ",
     "library": "var_list.py",
     "varRefreshCmd": "print(var_dic_list())"
    },
    "r": {
     "delete_cmd_postfix": ") ",
     "delete_cmd_prefix": "rm(",
     "library": "var_list.r",
     "varRefreshCmd": "cat(var_dic_list()) "
    }
   },
   "types_to_exclude": [
    "module",
    "function",
    "builtin_function_or_method",
    "instance",
    "_Feature"
   ],
   "window_display": false
  }
 },
 "nbformat": 4,
 "nbformat_minor": 4
}
