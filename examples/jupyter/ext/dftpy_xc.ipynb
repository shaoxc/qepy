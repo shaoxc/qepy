{
 "cells": [
  {
   "cell_type": "markdown",
   "id": "5d0a114b",
   "metadata": {},
   "source": [
    "# Replace exchange-correlation by PBE and rVV10"
   ]
  },
  {
   "cell_type": "code",
   "execution_count": 1,
   "id": "e1038e61",
   "metadata": {},
   "outputs": [],
   "source": [
    "import _qepy\n",
    "import qepy\n",
    "import importlib"
   ]
  },
  {
   "cell_type": "code",
   "execution_count": 2,
   "id": "1e20fcc3",
   "metadata": {},
   "outputs": [],
   "source": [
    "import numpy as np\n",
    "from qepy.driver import Driver\n",
    "from qepy.io import QEInput"
   ]
  },
  {
   "cell_type": "code",
   "execution_count": 3,
   "id": "12b0a4d8",
   "metadata": {},
   "outputs": [],
   "source": [
    "from ase.io.trajectory import Trajectory\n",
    "from ase.lattice.hexagonal import Graphene\n",
    "from ase import Atoms\n",
    "import matplotlib.pyplot as plt"
   ]
  },
  {
   "cell_type": "code",
   "execution_count": 4,
   "id": "0f32a313",
   "metadata": {},
   "outputs": [],
   "source": [
    "qe_options = {\n",
    "    '&control': {\n",
    "        'calculation': \"'scf'\",\n",
    "        'pseudo_dir': \"'./'\"\n",
    "    },\n",
    "    '&system': {\n",
    "        'ibrav' : 0,\n",
    "        'degauss': 0.005,\n",
    "        'ecutwfc': 30,\n",
    "        'nat': 1,\n",
    "        'ntyp': 1,\n",
    "        'occupations': \"'smearing'\",\n",
    "        'input_dft' : \"'PBE'\"\n",
    "    },\n",
    "    '&electrons': {\n",
    "        'conv_thr' : 1e-8\n",
    "    },\n",
    "    'atomic_positions crystal': ['Al    0.0  0.0  0.0'],\n",
    "    'atomic_species': ['Al  26.98 Al_ONCV_PBE-1.2.upf'],\n",
    "    'k_points automatic': ['4 4 4 0 0 0'],\n",
    "    'cell_parameters angstrom':[\n",
    "        '0.     2.025  2.025',\n",
    "        '2.025  0.     2.025',\n",
    "        '2.025  2.025  0.   '],\n",
    "}"
   ]
  },
  {
   "cell_type": "code",
   "execution_count": 5,
   "id": "b65cbcca",
   "metadata": {},
   "outputs": [],
   "source": [
    "driver=Driver(qe_options=qe_options, iterative = True, logfile='tmp.out')"
   ]
  },
  {
   "cell_type": "code",
   "execution_count": 6,
   "id": "02ce26f7",
   "metadata": {},
   "outputs": [
    {
     "name": "stdout",
     "output_type": "stream",
     "text": [
      "Iter:  0  - Conv:  0.07423450252710213\n",
      "Iter:  1  - Conv:  0.0014686764583955348\n",
      "Iter:  2  - Conv:  3.4654773793272354e-05\n",
      "Iter:  3  - Conv:  6.680306265302417e-08\n",
      "Iter:  4  - Conv:  2.5412863642447476e-09\n"
     ]
    },
    {
     "data": {
      "text/plain": [
       "-137.91449178319868"
      ]
     },
     "execution_count": 6,
     "metadata": {},
     "output_type": "execute_result"
    }
   ],
   "source": [
    "for i in range(60):\n",
    "    driver.diagonalize()\n",
    "    driver.mix()\n",
    "    converged = driver.check_convergence()\n",
    "    print ('Iter: ',i,' - Conv: ', driver.get_scf_error())\n",
    "    if converged : break\n",
    "driver.get_energy()"
   ]
  },
  {
   "cell_type": "code",
   "execution_count": 7,
   "id": "0a323832",
   "metadata": {},
   "outputs": [],
   "source": [
    "driver=Driver(qe_options=qe_options, iterative = True, logfile='tmp2.out')"
   ]
  },
  {
   "cell_type": "code",
   "execution_count": 8,
   "id": "176e30f2",
   "metadata": {},
   "outputs": [],
   "source": [
    "from dftpy.functional import XC\n",
    "def eval_xc(driver):\n",
    "    rho = driver.get_density()\n",
    "    field = driver.data2field(rho)\n",
    "    func = xc(field)\n",
    "    pot = driver.field2data(func.potential)*2\n",
    "    energy = func.energy*2\n",
    "    return pot, energy"
   ]
  },
  {
   "cell_type": "code",
   "execution_count": 9,
   "id": "24d5feee",
   "metadata": {},
   "outputs": [
    {
     "name": "stdout",
     "output_type": "stream",
     "text": [
      "Iter:  0  - Conv:  0.07424296727173395\n",
      "Iter:  1  - Conv:  0.001468217196695493\n",
      "Iter:  2  - Conv:  3.469166657005103e-05\n",
      "Iter:  3  - Conv:  7.047338781552066e-08\n",
      "Iter:  4  - Conv:  2.171360641664497e-09\n"
     ]
    },
    {
     "data": {
      "text/plain": [
       "-137.91479262069387"
      ]
     },
     "execution_count": 9,
     "metadata": {},
     "output_type": "execute_result"
    }
   ],
   "source": [
    "xc = XC('PBE')\n",
    "for i in range(60):\n",
    "    extpot, ex = eval_xc(driver)\n",
    "    driver.set_external_potential(potential=extpot, extene=ex, exttype=4)\n",
    "    driver.diagonalize()\n",
    "    driver.mix()\n",
    "    converged = driver.check_convergence()\n",
    "    print ('Iter: ',i,' - Conv: ', driver.get_scf_error())\n",
    "    if converged : break\n",
    "\n",
    "driver.get_energy()"
   ]
  },
  {
   "cell_type": "code",
   "execution_count": 10,
   "id": "51e343e8",
   "metadata": {},
   "outputs": [
    {
     "name": "stdout",
     "output_type": "stream",
     "text": [
      "Iter:  0  - Conv:  1.822818971869831e-05\n",
      "Iter:  1  - Conv:  1.0555203104114239e-06\n",
      "Iter:  2  - Conv:  1.6239999455114602e-08\n",
      "Iter:  3  - Conv:  1.384650987505714e-10\n"
     ]
    },
    {
     "data": {
      "text/plain": [
       "-138.0117587181245"
      ]
     },
     "execution_count": 10,
     "metadata": {},
     "output_type": "execute_result"
    }
   ],
   "source": [
    "xc = XC('RVV10')\n",
    "for i in range(60):\n",
    "    extpot, ex = eval_xc(driver)\n",
    "    driver.set_external_potential(potential=extpot, extene=ex, exttype=4)\n",
    "    driver.diagonalize()\n",
    "    driver.mix()\n",
    "    converged = driver.check_convergence()\n",
    "    print ('Iter: ',i,' - Conv: ', driver.get_scf_error())\n",
    "    if converged : break\n",
    "\n",
    "driver.get_energy()"
   ]
  }
 ],
 "metadata": {
  "kernelspec": {
   "display_name": "Python 3 (ipykernel)",
   "language": "python",
   "name": "python3"
  },
  "language_info": {
   "codemirror_mode": {
    "name": "ipython",
    "version": 3
   },
   "file_extension": ".py",
   "mimetype": "text/x-python",
   "name": "python",
   "nbconvert_exporter": "python",
   "pygments_lexer": "ipython3",
   "version": "3.10.6"
  }
 },
 "nbformat": 4,
 "nbformat_minor": 5
}
