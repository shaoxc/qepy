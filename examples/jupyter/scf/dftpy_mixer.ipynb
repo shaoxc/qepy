{
 "cells": [
  {
   "cell_type": "markdown",
   "id": "5d0a114b",
   "metadata": {},
   "source": [
    "# Using DFTpy mixer"
   ]
  },
  {
   "cell_type": "code",
   "execution_count": 1,
   "id": "e1038e61",
   "metadata": {},
   "outputs": [],
   "source": [
    "import qepy\n",
    "import importlib"
   ]
  },
  {
   "cell_type": "code",
   "execution_count": 2,
   "id": "1e20fcc3",
   "metadata": {},
   "outputs": [],
   "source": [
    "import numpy as np\n",
    "from qepy.driver import Driver\n",
    "from qepy.io import QEInput"
   ]
  },
  {
   "cell_type": "code",
   "execution_count": 3,
   "id": "12b0a4d8",
   "metadata": {},
   "outputs": [],
   "source": [
    "from ase.io.trajectory import Trajectory\n",
    "from ase.lattice.hexagonal import Graphene\n",
    "from ase import Atoms\n",
    "import matplotlib.pyplot as plt"
   ]
  },
  {
   "cell_type": "code",
   "execution_count": 4,
   "id": "0f32a313",
   "metadata": {},
   "outputs": [],
   "source": [
    "qe_options = {\n",
    "    '&control': {\n",
    "        'calculation': \"'scf'\",\n",
    "        'pseudo_dir': \"'./'\"\n",
    "    },\n",
    "    '&system': {\n",
    "        'ibrav' : 0,\n",
    "        'degauss': 0.005,\n",
    "        'ecutwfc': 30,\n",
    "        'nat': 1,\n",
    "        'ntyp': 1,\n",
    "        'occupations': \"'smearing'\"\n",
    "    },\n",
    "    '&electrons': {\n",
    "        'conv_thr' : 1e-8\n",
    "    },\n",
    "    'atomic_positions crystal': ['Al    0.0  0.0  0.0'],\n",
    "    'atomic_species': ['Al  26.98 Al_ONCV_PBE-1.2.upf'],\n",
    "    'k_points automatic': ['4 4 4 0 0 0'],\n",
    "    'cell_parameters angstrom':[\n",
    "        '0.     2.025  2.025',\n",
    "        '2.025  0.     2.025',\n",
    "        '2.025  2.025  0.   '],\n",
    "}"
   ]
  },
  {
   "cell_type": "code",
   "execution_count": 5,
   "id": "b65cbcca",
   "metadata": {},
   "outputs": [],
   "source": [
    "driver=Driver(qe_options=qe_options, iterative = True, logfile='tmp.out')"
   ]
  },
  {
   "cell_type": "code",
   "execution_count": 6,
   "id": "02ce26f7",
   "metadata": {},
   "outputs": [
    {
     "name": "stdout",
     "output_type": "stream",
     "text": [
      "Iter:  0  - Conv:  0.07520824059877651\n",
      "Iter:  1  - Conv:  0.0013949184647052578\n",
      "Iter:  2  - Conv:  3.710927074024824e-05\n",
      "Iter:  3  - Conv:  1.32989451870516e-07\n",
      "Iter:  4  - Conv:  4.295314300787336e-10\n"
     ]
    },
    {
     "data": {
      "text/plain": [
       "-137.9144918110066"
      ]
     },
     "execution_count": 6,
     "metadata": {},
     "output_type": "execute_result"
    }
   ],
   "source": [
    "for i in range(60):\n",
    "    driver.diagonalize()\n",
    "    driver.mix()\n",
    "    converged = driver.check_convergence()\n",
    "    print ('Iter: ',i,' - Conv: ', driver.get_scf_error())\n",
    "    if converged : break\n",
    "driver.calc_energy()"
   ]
  },
  {
   "cell_type": "code",
   "execution_count": 7,
   "id": "dadff527-c3f9-4a3c-9476-3f933e4bd850",
   "metadata": {
    "tags": []
   },
   "outputs": [],
   "source": [
    "from dftpy.functional import Hartree"
   ]
  },
  {
   "cell_type": "code",
   "execution_count": 8,
   "id": "0a323832",
   "metadata": {},
   "outputs": [],
   "source": [
    "driver=Driver(qe_options=qe_options, iterative = True, logfile='tmp.1.out')"
   ]
  },
  {
   "cell_type": "code",
   "execution_count": 9,
   "id": "73361d1a-3ac6-4fd9-9074-22fe69cbb639",
   "metadata": {},
   "outputs": [
    {
     "name": "stdout",
     "output_type": "stream",
     "text": [
      "Iter:  0  - Conv:  0.03752851919933121 dN: 0.6417690036360949\n",
      "Iter:  1  - Conv:  0.0007030693684957956 dN: 0.15211482969793375\n",
      "Iter:  2  - Conv:  3.899234652126256e-05 dN: 0.045686645711029455\n",
      "Iter:  3  - Conv:  3.359283387693953e-06 dN: 0.014066196101666017\n",
      "Iter:  4  - Conv:  3.2333223714989856e-07 dN: 0.00441645212770983\n",
      "Iter:  5  - Conv:  3.0518370843028964e-08 dN: 0.00136276412581075\n",
      "Iter:  6  - Conv:  2.804704165066253e-09 dN: 0.00041966972947132445\n"
     ]
    },
    {
     "data": {
      "text/plain": [
       "-137.91449181104142"
      ]
     },
     "execution_count": 9,
     "metadata": {},
     "output_type": "execute_result"
    }
   ],
   "source": [
    "rho = driver.get_density().copy()\n",
    "coef = 0.7\n",
    "for i in range(20):\n",
    "    driver.diagonalize()\n",
    "    #\n",
    "    rho_new = driver.get_density().copy()\n",
    "    drho = driver.data2field(rho_new-rho)\n",
    "    error = Hartree.compute(drho).energy\n",
    "    nc = np.abs(drho).sum()*driver.get_volume()/drho.size\n",
    "    print ('Iter: ',i,' - Conv: ', error, 'dN:', nc)\n",
    "    if error < 1e-8:\n",
    "        driver.end_scf()\n",
    "        break\n",
    "    #\n",
    "    rho = (1-coef)*rho + coef * rho_new\n",
    "    driver.set_density(rho)\n",
    "driver.calc_energy()"
   ]
  },
  {
   "cell_type": "code",
   "execution_count": 10,
   "id": "11d49038-f315-4205-b3bd-ca8a7da7e5ff",
   "metadata": {},
   "outputs": [],
   "source": [
    "driver=Driver(qe_options=qe_options, iterative = True, logfile='tmp.2.out')"
   ]
  },
  {
   "cell_type": "code",
   "execution_count": 11,
   "id": "e1be407b-52ac-48b4-af66-4e24d58b681d",
   "metadata": {
    "tags": []
   },
   "outputs": [
    {
     "name": "stdout",
     "output_type": "stream",
     "text": [
      "Iter:  0  - Conv:  0.037437901915588066 dN: 0.640998305728986\n",
      "Iter:  1  - Conv:  0.0013992599106399809 dN: 0.11937626385358018\n",
      "Iter:  2  - Conv:  1.2556386014528264e-05 dN: 0.011465237457718627\n",
      "Iter:  3  - Conv:  3.318016424378692e-07 dN: 0.0020696878129346325\n",
      "Iter:  4  - Conv:  7.840132497960062e-09 dN: 0.00044031761906971776\n"
     ]
    },
    {
     "data": {
      "text/plain": [
       "-137.9144915709659"
      ]
     },
     "execution_count": 11,
     "metadata": {},
     "output_type": "execute_result"
    }
   ],
   "source": [
    "rho_new = driver.get_density().copy()\n",
    "coef = 0.7\n",
    "hartree = driver.get_hartree()\n",
    "xc = driver.get_exchange_correlation()\n",
    "v_hxc = hartree[0] + xc[0]\n",
    "for i in range(10):\n",
    "    driver.diagonalize()\n",
    "    #\n",
    "    rho_new, rho = driver.get_density().copy(), rho_new\n",
    "    drho = driver.data2field(rho_new-rho)\n",
    "    error = Hartree.compute(drho).energy\n",
    "    nc = np.abs(drho).sum()*driver.get_volume()/drho.size\n",
    "    print ('Iter: ',i,' - Conv: ', error, 'dN:', nc)\n",
    "    if error < 1e-8:\n",
    "        driver.end_scf()\n",
    "        break\n",
    "    #\n",
    "    hartree = driver.get_hartree()\n",
    "    xc = driver.get_exchange_correlation()\n",
    "    v_hxc_new = hartree[0] + xc[0]\n",
    "    v_hxc = (1-coef)*v_hxc + coef*v_hxc_new\n",
    "    extene = hartree[1] + xc[1]\n",
    "    driver.set_external_potential(v_hxc, exttype=('hartree', 'xc'), extene=extene)\n",
    "driver.get_energy()"
   ]
  },
  {
   "cell_type": "code",
   "execution_count": 12,
   "id": "1dc990eb-6db7-4c08-82be-3c93da349dcb",
   "metadata": {},
   "outputs": [],
   "source": [
    "driver=Driver(qe_options=qe_options, iterative = True, logfile='tmp.3.out')"
   ]
  },
  {
   "cell_type": "code",
   "execution_count": 13,
   "id": "176e30f2",
   "metadata": {},
   "outputs": [],
   "source": [
    "from dftpy.mixer import Mixer\n",
    "driver.mixer = Mixer(scheme='pulay')"
   ]
  },
  {
   "cell_type": "code",
   "execution_count": 14,
   "id": "24d5feee",
   "metadata": {},
   "outputs": [
    {
     "name": "stdout",
     "output_type": "stream",
     "text": [
      "Iter:  0  - Conv:  0.03755451077311118 dN: 0.6418754781189733\n",
      "Iter:  1  - Conv:  0.0007007576828599942 dN: 0.15178804133319698\n",
      "Iter:  2  - Conv:  1.3737606368086011e-05 dN: 0.028148121017143795\n",
      "Iter:  3  - Conv:  8.15245894618318e-08 dN: 0.001362919446773032\n",
      "Iter:  4  - Conv:  1.8093142856235335e-10 dN: 0.00012862004001710746\n"
     ]
    },
    {
     "data": {
      "text/plain": [
       "-137.9144918081112"
      ]
     },
     "execution_count": 14,
     "metadata": {},
     "output_type": "execute_result"
    }
   ],
   "source": [
    "rho = driver.data2field(driver.get_density().copy())\n",
    "for i in range(10):\n",
    "    driver.diagonalize()\n",
    "    #\n",
    "    rho_new = driver.data2field(driver.get_density().copy())\n",
    "    drho = rho_new - rho\n",
    "    error = Hartree.compute(drho).energy\n",
    "    nc = np.abs(drho).integral()\n",
    "    print ('Iter: ',i,' - Conv: ', error, 'dN:', nc)\n",
    "    if error < 1e-8:\n",
    "        driver.end_scf()\n",
    "        break\n",
    "    #\n",
    "    rho = driver.mixer(rho, rho_new, coef=0.7)\n",
    "    density = driver.field2data(rho)\n",
    "    driver.set_density(density)\n",
    "driver.calc_energy()"
   ]
  },
  {
   "cell_type": "code",
   "execution_count": 15,
   "id": "0d4204f7",
   "metadata": {},
   "outputs": [],
   "source": [
    "ions = driver.get_dftpy_ions()"
   ]
  },
  {
   "cell_type": "code",
   "execution_count": 16,
   "id": "3f41ecbc",
   "metadata": {},
   "outputs": [],
   "source": [
    "rho.write('tmp.xsf', ions=ions)"
   ]
  }
 ],
 "metadata": {
  "kernelspec": {
   "display_name": "Python 3 (ipykernel)",
   "language": "python",
   "name": "python3"
  },
  "language_info": {
   "codemirror_mode": {
    "name": "ipython",
    "version": 3
   },
   "file_extension": ".py",
   "mimetype": "text/x-python",
   "name": "python",
   "nbconvert_exporter": "python",
   "pygments_lexer": "ipython3",
   "version": "3.10.12"
  }
 },
 "nbformat": 4,
 "nbformat_minor": 5
}
