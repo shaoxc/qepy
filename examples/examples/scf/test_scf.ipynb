{
 "cells": [
  {
   "cell_type": "code",
   "execution_count": 1,
   "id": "05754d04",
   "metadata": {},
   "outputs": [],
   "source": [
    "import numpy as np\n",
    "#\n",
    "from qepy.driver import Driver\n",
    "from qepy.io import QEInput"
   ]
  },
  {
   "cell_type": "code",
   "execution_count": 2,
   "id": "86259973",
   "metadata": {},
   "outputs": [],
   "source": [
    "qe_options = {\n",
    "    '&control': {\n",
    "        'calculation': \"'scf'\",\n",
    "        'prefix': \"'Al'\",\n",
    "        'pseudo_dir': \"'./'\",\n",
    "        'restart_mode': \"'from_scratch'\"},\n",
    "    '&system': {\n",
    "        'ibrav' : 0,\n",
    "        'degauss': 0.005,\n",
    "        'ecutwfc': 30,\n",
    "#         'nspin' : 2,\n",
    "#         'tot_magnetization': 0,\n",
    "        'occupations': \"'smearing'\"},\n",
    "     'atomic_species': ['Al  26.98 Al.pbe-nl-kjpaw_psl.1.0.0.UPF'],\n",
    "     'k_points automatic': ['2 2 2 1 1 1'],\n",
    "}"
   ]
  },
  {
   "cell_type": "markdown",
   "id": "4a3c56ad",
   "metadata": {},
   "source": [
    "!wget http://pseudopotentials.quantum-espresso.org/upf_files/Al.pbe-nl-kjpaw_psl.1.0.0.UPF"
   ]
  },
  {
   "cell_type": "code",
   "execution_count": 3,
   "id": "8b5ed2ea",
   "metadata": {},
   "outputs": [],
   "source": [
    "options = {\n",
    "    '&electrons': {\n",
    "        'mixing_beta': 0.5},\n",
    "    'cell_parameters angstrom':[\n",
    "        '0.     2.025  2.025',\n",
    "        '2.025  0.     2.025',\n",
    "        '2.025  2.025  0.   '],\n",
    "    'atomic_positions crystal': ['Al    0.0  0.0  0.0'],\n",
    "}"
   ]
  },
  {
   "cell_type": "code",
   "execution_count": 4,
   "id": "86946533",
   "metadata": {},
   "outputs": [],
   "source": [
    "qe_options = QEInput.update_options(options, qe_options=qe_options)"
   ]
  },
  {
   "cell_type": "code",
   "execution_count": 5,
   "id": "44b6fdb7",
   "metadata": {},
   "outputs": [],
   "source": [
    "driver = Driver(qe_options=qe_options, logfile=True)"
   ]
  },
  {
   "cell_type": "code",
   "execution_count": 6,
   "id": "2998def5",
   "metadata": {},
   "outputs": [
    {
     "data": {
      "text/plain": [
       "-39.4876170037663"
      ]
     },
     "execution_count": 6,
     "metadata": {},
     "output_type": "execute_result"
    }
   ],
   "source": [
    "driver.electrons()"
   ]
  },
  {
   "cell_type": "code",
   "execution_count": 7,
   "id": "e93e44c3",
   "metadata": {},
   "outputs": [],
   "source": [
    "rho = driver.get_density()"
   ]
  },
  {
   "cell_type": "markdown",
   "id": "b47ef3f5",
   "metadata": {},
   "source": [
    "## Convert to DFTpy Field"
   ]
  },
  {
   "cell_type": "code",
   "execution_count": 8,
   "id": "2207e980",
   "metadata": {},
   "outputs": [],
   "source": [
    "import dftpy"
   ]
  },
  {
   "cell_type": "code",
   "execution_count": 9,
   "id": "f313fdf2",
   "metadata": {},
   "outputs": [],
   "source": [
    "field = driver.data2field(rho)"
   ]
  },
  {
   "cell_type": "code",
   "execution_count": 10,
   "id": "de648841",
   "metadata": {},
   "outputs": [
    {
     "data": {
      "text/plain": [
       "2.9999999999380167"
      ]
     },
     "execution_count": 10,
     "metadata": {},
     "output_type": "execute_result"
    }
   ],
   "source": [
    "field.integral()"
   ]
  },
  {
   "cell_type": "code",
   "execution_count": 11,
   "id": "6e14315d",
   "metadata": {},
   "outputs": [],
   "source": [
    "ions = driver.get_dftpy_ions()"
   ]
  },
  {
   "cell_type": "code",
   "execution_count": 12,
   "id": "e013c4c0",
   "metadata": {},
   "outputs": [],
   "source": [
    "# field.write('density.xsf', ions=ions)"
   ]
  },
  {
   "cell_type": "code",
   "execution_count": 13,
   "id": "ce1e5f79",
   "metadata": {},
   "outputs": [],
   "source": [
    "driver.stop()"
   ]
  }
 ],
 "metadata": {
  "kernelspec": {
   "display_name": "Python 3 (ipykernel)",
   "language": "python",
   "name": "python3"
  },
  "language_info": {
   "codemirror_mode": {
    "name": "ipython",
    "version": 3
   },
   "file_extension": ".py",
   "mimetype": "text/x-python",
   "name": "python",
   "nbconvert_exporter": "python",
   "pygments_lexer": "ipython3",
   "version": "3.8.10"
  }
 },
 "nbformat": 4,
 "nbformat_minor": 5
}
