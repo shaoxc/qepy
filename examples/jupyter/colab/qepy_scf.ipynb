{
  "nbformat": 4,
  "nbformat_minor": 0,
  "metadata": {
    "colab": {
      "provenance": []
    },
    "kernelspec": {
      "name": "python3",
      "display_name": "Python 3"
    },
    "language_info": {
      "name": "python"
    }
  },
  "cells": [
    {
      "cell_type": "code",
      "execution_count": null,
      "metadata": {
        "id": "Nt8QJjd4kCPU"
      },
      "outputs": [],
      "source": [
        "!pip install qepy"
      ]
    },
    {
      "cell_type": "code",
      "source": [
        "!pip install dftpy"
      ],
      "metadata": {
        "id": "H9epSvjvkEKr"
      },
      "execution_count": null,
      "outputs": []
    },
    {
      "cell_type": "code",
      "source": [
        "!git clone https://gitlab.com/shaoxc/qepy.git"
      ],
      "metadata": {
        "id": "ixhWMjB2kFpC"
      },
      "execution_count": null,
      "outputs": []
    },
    {
      "cell_type": "code",
      "source": [
        "%cd qepy/examples/jupyter/scf"
      ],
      "metadata": {
        "id": "uINOdDZmCYFA"
      },
      "execution_count": null,
      "outputs": []
    },
    {
      "cell_type": "code",
      "source": [
        "!python -m qepy --pw.x -i qe_in.in"
      ],
      "metadata": {
        "id": "1AbRmyv-EBBA"
      },
      "execution_count": null,
      "outputs": []
    },
    {
      "cell_type": "code",
      "source": [
        "from qepy import Driver"
      ],
      "metadata": {
        "id": "liznasPwEB2Q"
      },
      "execution_count": null,
      "outputs": []
    },
    {
      "cell_type": "code",
      "source": [
        "driver = Driver('qe_in.in', logfile=True)"
      ],
      "metadata": {
        "id": "3NLGAybSEvff"
      },
      "execution_count": null,
      "outputs": []
    },
    {
      "cell_type": "code",
      "source": [
        "driver.scf()"
      ],
      "metadata": {
        "id": "hWWrJxMiExz8"
      },
      "execution_count": null,
      "outputs": []
    },
    {
      "cell_type": "code",
      "source": [
        "driver.get_forces()"
      ],
      "metadata": {
        "id": "NWQ5MUNb1tUX"
      },
      "execution_count": null,
      "outputs": []
    },
    {
      "cell_type": "code",
      "source": [
        "driver.get_stress()"
      ],
      "metadata": {
        "id": "WQ3Kt3Hj1uoY"
      },
      "execution_count": null,
      "outputs": []
    }
  ]
}