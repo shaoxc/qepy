{
 "cells": [
  {
   "cell_type": "markdown",
   "id": "5d0a114b",
   "metadata": {},
   "source": [
    "# Compute ELF and RDG"
   ]
  },
  {
   "cell_type": "code",
   "execution_count": 1,
   "id": "1e20fcc3",
   "metadata": {},
   "outputs": [],
   "source": [
    "import numpy as np\n",
    "from qepy.driver import Driver\n",
    "from qepy.io import QEInput"
   ]
  },
  {
   "cell_type": "code",
   "execution_count": 2,
   "id": "0f32a313",
   "metadata": {},
   "outputs": [],
   "source": [
    "qe_options = {\n",
    "    '&control': {\n",
    "        'prefix' : \"'tmp'\",\n",
    "        'outdir' : \"'./'\",\n",
    "        'calculation': \"'scf'\",\n",
    "        'pseudo_dir': \"'./'\"\n",
    "    },\n",
    "    '&system': {\n",
    "        'ibrav' : 0,\n",
    "        'degauss': 0.005,\n",
    "        'ecutwfc': 30,\n",
    "        'nat': 1,\n",
    "        'ntyp': 1,\n",
    "        'occupations': \"'smearing'\",\n",
    "        'input_dft' : \"'PBE'\"\n",
    "    },\n",
    "    '&electrons': {\n",
    "        'conv_thr' : 1e-8\n",
    "    },\n",
    "    'atomic_positions crystal': ['Al    0.0  0.0  0.0'],\n",
    "    'atomic_species': ['Al  26.98 Al_ONCV_PBE-1.2.upf'],\n",
    "    'k_points automatic': ['4 4 4 0 0 0'],\n",
    "    'cell_parameters angstrom':[\n",
    "        '0.     2.025  2.025',\n",
    "        '2.025  0.     2.025',\n",
    "        '2.025  2.025  0.   '],\n",
    "}"
   ]
  },
  {
   "cell_type": "code",
   "execution_count": 3,
   "id": "b65cbcca",
   "metadata": {},
   "outputs": [],
   "source": [
    "driver=Driver(qe_options=qe_options, logfile='tmp.out')"
   ]
  },
  {
   "cell_type": "code",
   "execution_count": 4,
   "id": "c62c8863-d18c-47e9-b2cd-eb0895b91a3f",
   "metadata": {
    "tags": []
   },
   "outputs": [
    {
     "data": {
      "text/plain": [
       "-137.91449178319868"
      ]
     },
     "execution_count": 4,
     "metadata": {},
     "output_type": "execute_result"
    }
   ],
   "source": [
    "driver.electrons()"
   ]
  },
  {
   "cell_type": "markdown",
   "id": "186b188f-808a-415d-9e05-eec817de7390",
   "metadata": {},
   "source": [
    "## Start a new driver to load the results."
   ]
  },
  {
   "cell_type": "code",
   "execution_count": 5,
   "id": "b0f8029d-0cac-44cd-b098-4bf48a3c6c5c",
   "metadata": {
    "tags": []
   },
   "outputs": [],
   "source": [
    "driver=Driver(prefix='tmp', outdir='./', logfile='tmp.out', task='nscf')"
   ]
  },
  {
   "cell_type": "markdown",
   "id": "ab6a17ef-2b9e-49af-bfcc-59276cb097a9",
   "metadata": {
    "tags": []
   },
   "source": [
    "### Get electron localization function (ELF)"
   ]
  },
  {
   "cell_type": "code",
   "execution_count": 6,
   "id": "5107cb28-7c80-48b9-b562-5b5b9185dba6",
   "metadata": {
    "tags": []
   },
   "outputs": [],
   "source": [
    "elf = driver.get_elf()"
   ]
  },
  {
   "cell_type": "markdown",
   "id": "badde50b-e81f-42ff-969c-d670bdb28806",
   "metadata": {
    "tags": []
   },
   "source": [
    "### Get reduced density gradient (RDG)"
   ]
  },
  {
   "cell_type": "code",
   "execution_count": 7,
   "id": "418ca505-3f25-4d77-ad16-2ebb494f2ba3",
   "metadata": {
    "tags": []
   },
   "outputs": [],
   "source": [
    "rdg = driver.get_rdg()"
   ]
  },
  {
   "cell_type": "code",
   "execution_count": 8,
   "id": "19c7314d-7878-4b89-89d7-5b55bea51098",
   "metadata": {
    "tags": []
   },
   "outputs": [
    {
     "name": "stdout",
     "output_type": "stream",
     "text": [
      "0.8227654111345427 0.023904705142801717 3105.9248819321415\n"
     ]
    }
   ],
   "source": [
    "if driver.is_root :\n",
    "    print(elf.max(), elf.min(), elf.sum())"
   ]
  },
  {
   "cell_type": "markdown",
   "id": "a9453362-d2dc-48a3-9843-417c16e596b6",
   "metadata": {
    "tags": []
   },
   "source": [
    "### Plot ELF and RDG"
   ]
  },
  {
   "cell_type": "code",
   "execution_count": 9,
   "id": "a5b3ae2a-f38a-4b22-ab6c-972cb2a477e8",
   "metadata": {
    "tags": []
   },
   "outputs": [],
   "source": [
    "elf_3d = driver.data2field(elf)\n",
    "rdg_3d = driver.data2field(rdg)"
   ]
  },
  {
   "cell_type": "code",
   "execution_count": 10,
   "id": "caad0963-0af1-443e-84d4-c433c1aa7b8d",
   "metadata": {
    "tags": []
   },
   "outputs": [
    {
     "data": {
      "image/png": "[encoded data removed]",
      "text/plain": [
       "<Figure size 960x720 with 4 Axes>"
      ]
     },
     "metadata": {},
     "output_type": "display_data"
    }
   ],
   "source": [
    "import matplotlib.pyplot as plt\n",
    "\n",
    "fig, axs = plt.subplots(1,2)\n",
    "\n",
    "im=axs[0].imshow(elf_3d[0])\n",
    "fig.colorbar(im, ax=axs[0], fraction=0.04)\n",
    "\n",
    "im=axs[1].imshow(rdg_3d[0])\n",
    "fig.colorbar(im, ax=axs[1], fraction=0.04)\n",
    "\n",
    "plt.subplots_adjust(wspace=0.4)"
   ]
  }
 ],
 "metadata": {
  "kernelspec": {
   "display_name": "Python 3 (ipykernel)",
   "language": "python",
   "name": "python3"
  },
  "language_info": {
   "codemirror_mode": {
    "name": "ipython",
    "version": 3
   },
   "file_extension": ".py",
   "mimetype": "text/x-python",
   "name": "python",
   "nbconvert_exporter": "python",
   "pygments_lexer": "ipython3",
   "version": "3.10.6"
  }
 },
 "nbformat": 4,
 "nbformat_minor": 5
}
