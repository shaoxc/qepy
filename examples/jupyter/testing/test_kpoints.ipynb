{
 "cells": [
  {
   "cell_type": "markdown",
   "id": "752fafb7",
   "metadata": {},
   "source": [
    "# Test kpoints"
   ]
  },
  {
   "cell_type": "code",
   "execution_count": 1,
   "id": "05754d04",
   "metadata": {},
   "outputs": [],
   "source": [
    "import numpy as np\n",
    "#\n",
    "from qepy.driver import Driver"
   ]
  },
  {
   "cell_type": "code",
   "execution_count": 2,
   "id": "58142992",
   "metadata": {},
   "outputs": [],
   "source": [
    "qe_options = {\n",
    "    '&control': {\n",
    "        'calculation': \"'scf'\",\n",
    "        'pseudo_dir': \"'./'\",\n",
    "    },\n",
    "    '&system': {\n",
    "        'ibrav' : 0,\n",
    "        'degauss': 0.005,\n",
    "        'ecutwfc': 30,\n",
    "        'nat': 1,\n",
    "        'ntyp': 1,\n",
    "        'occupations': \"'smearing'\",\n",
    "    },\n",
    "    'atomic_positions crystal': ['Al    0.0  0.0  0.0'],\n",
    "    'atomic_species': ['Al  26.98 Al.pbe-nl-kjpaw_psl.1.0.0.UPF'],\n",
    "    'k_points automatic': ['10 10 10 1 1 1'],\n",
    "    'cell_parameters angstrom':[\n",
    "        '0.     2.025  2.025',\n",
    "        '2.025  0.     2.025',\n",
    "        '2.025  2.025  0.   '],\n",
    "}"
   ]
  },
  {
   "cell_type": "markdown",
   "id": "e6a9aa05",
   "metadata": {},
   "source": [
    "!wget http://pseudopotentials.quantum-espresso.org/upf_files/Al.pbe-nl-kjpaw_psl.1.0.0.UPF"
   ]
  },
  {
   "cell_type": "code",
   "execution_count": 3,
   "id": "d0dd5e70",
   "metadata": {},
   "outputs": [],
   "source": [
    "kps = np.arange(2, 12, 2)\n",
    "energies = []\n",
    "for kp in kps:\n",
    "    qe_options['k_points automatic'] = [f'{kp} {kp} {kp} 1 1 1']\n",
    "    #\n",
    "    driver = Driver(qe_options=qe_options, logfile=True)\n",
    "    ene = driver.scf()\n",
    "    energies.append(ene)\n",
    "    driver.stop()"
   ]
  },
  {
   "cell_type": "code",
   "execution_count": 4,
   "id": "ffd9a6b1",
   "metadata": {},
   "outputs": [
    {
     "data": {
      "image/png": "[encoded data removed]",
      "text/plain": [
       "<Figure size 432x288 with 1 Axes>"
      ]
     },
     "metadata": {
      "needs_background": "light"
     },
     "output_type": "display_data"
    }
   ],
   "source": [
    "import matplotlib.pyplot as plt\n",
    "\n",
    "energies=np.asarray(energies)\n",
    "plt.plot(kps, energies-energies[-1]);"
   ]
  }
 ],
 "metadata": {
  "kernelspec": {
   "display_name": "Python 3 (ipykernel)",
   "language": "python",
   "name": "python3"
  },
  "language_info": {
   "codemirror_mode": {
    "name": "ipython",
    "version": 3
   },
   "file_extension": ".py",
   "mimetype": "text/x-python",
   "name": "python",
   "nbconvert_exporter": "python",
   "pygments_lexer": "ipython3",
   "version": "3.8.10"
  }
 },
 "nbformat": 4,
 "nbformat_minor": 5
}
