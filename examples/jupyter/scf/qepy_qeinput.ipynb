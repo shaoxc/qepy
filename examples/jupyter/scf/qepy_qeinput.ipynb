{
 "cells": [
  {
   "cell_type": "code",
   "execution_count": 1,
   "id": "05754d04",
   "metadata": {},
   "outputs": [],
   "source": [
    "import numpy as np\n",
    "#\n",
    "from qepy.driver import Driver\n",
    "from qepy.io import QEInput"
   ]
  },
  {
   "cell_type": "code",
   "execution_count": 2,
   "id": "86259973",
   "metadata": {},
   "outputs": [],
   "source": [
    "qe_options = {\n",
    "    '&control': {\n",
    "        'calculation': \"'scf'\",\n",
    "        'pseudo_dir': \"'./'\",\n",
    "    },\n",
    "    '&system': {\n",
    "        'ibrav' : 0,\n",
    "        'degauss': 0.005,\n",
    "        'ecutwfc': 30,\n",
    "        'occupations': \"'smearing'\"\n",
    "    },\n",
    "    'atomic_species': ['Al  26.98 Al.pbe-nl-kjpaw_psl.1.0.0.UPF'],\n",
    "    'k_points gamma': [],\n",
    "}"
   ]
  },
  {
   "cell_type": "code",
   "execution_count": 3,
   "id": "8b5ed2ea",
   "metadata": {},
   "outputs": [],
   "source": [
    "options = {\n",
    "    '&electrons': {\n",
    "        'mixing_beta': 0.5},\n",
    "    'cell_parameters angstrom':[\n",
    "        '0.     2.025  2.025',\n",
    "        '2.025  0.     2.025',\n",
    "        '2.025  2.025  0.   '],\n",
    "    'atomic_positions crystal': ['Al    0.0  0.0  0.0'],\n",
    "    'k_points automatic': ['2 2 2 1 1 1'],\n",
    "}"
   ]
  },
  {
   "cell_type": "markdown",
   "id": "4a3c56ad",
   "metadata": {},
   "source": [
    "!wget http://pseudopotentials.quantum-espresso.org/upf_files/Al.pbe-nl-kjpaw_psl.1.0.0.UPF"
   ]
  },
  {
   "cell_type": "code",
   "execution_count": 4,
   "id": "86946533",
   "metadata": {},
   "outputs": [],
   "source": [
    "qe_options = QEInput.update_options(options, qe_options=qe_options)"
   ]
  },
  {
   "cell_type": "code",
   "execution_count": 5,
   "id": "1436691a",
   "metadata": {},
   "outputs": [
    {
     "name": "stdout",
     "output_type": "stream",
     "text": [
      "{'&control': {'calculation': \"'scf'\", 'pseudo_dir': \"'./'\"},\n",
      " '&electrons': {'mixing_beta': 0.5},\n",
      " '&system': {'degauss': 0.005,\n",
      "             'ecutwfc': 30,\n",
      "             'ibrav': 0,\n",
      "             'nat': 1,\n",
      "             'ntyp': 1,\n",
      "             'occupations': \"'smearing'\"},\n",
      " 'atomic_positions crystal': ['Al    0.0  0.0  0.0'],\n",
      " 'atomic_species': ['Al  26.98 Al.pbe-nl-kjpaw_psl.1.0.0.UPF'],\n",
      " 'cell_parameters angstrom': ['0.     2.025  2.025',\n",
      "                              '2.025  0.     2.025',\n",
      "                              '2.025  2.025  0.   '],\n",
      " 'k_points automatic': ['2 2 2 1 1 1']}\n"
     ]
    }
   ],
   "source": [
    "from pprint import pprint\n",
    "pprint(qe_options)"
   ]
  },
  {
   "cell_type": "code",
   "execution_count": 6,
   "id": "5fc11032",
   "metadata": {},
   "outputs": [
    {
     "name": "stdout",
     "output_type": "stream",
     "text": [
      "&CONTROL\r\n",
      "   calculation = 'scf'\r\n",
      "   pseudo_dir = './'\r\n",
      "/\r\n",
      "\r\n",
      "&SYSTEM\r\n",
      "   ibrav = 0\r\n",
      "   degauss = 0.005\r\n",
      "   ecutwfc = 30\r\n",
      "   occupations = 'smearing'\r\n",
      "   nat = 1\r\n",
      "   ntyp = 1\r\n",
      "/\r\n",
      "\r\n",
      "&ELECTRONS\r\n",
      "   mixing_beta = 0.5\r\n",
      "/\r\n",
      "\r\n",
      "&IONS\r\n",
      "/\r\n",
      "\r\n",
      "&CELL\r\n",
      "/\r\n",
      "\r\n",
      "&FCP\r\n",
      "/\r\n",
      "\r\n",
      "&RISM\r\n",
      "/\r\n",
      "\r\n",
      "ATOMIC_SPECIES\r\n",
      "Al  26.98 Al.pbe-nl-kjpaw_psl.1.0.0.UPF\r\n",
      "\r\n",
      "CELL_PARAMETERS angstrom\r\n",
      "0.     2.025  2.025\r\n",
      "2.025  0.     2.025\r\n",
      "2.025  2.025  0.   \r\n",
      "\r\n",
      "ATOMIC_POSITIONS crystal\r\n",
      "Al    0.0  0.0  0.0\r\n",
      "\r\n",
      "K_POINTS automatic\r\n",
      "2 2 2 1 1 1\r\n",
      "\r\n"
     ]
    }
   ],
   "source": [
    "QEInput().write_qe_input('tmp.in',qe_options=qe_options)\n",
    "!cat tmp.in"
   ]
  },
  {
   "cell_type": "code",
   "execution_count": 7,
   "id": "44b6fdb7",
   "metadata": {},
   "outputs": [],
   "source": [
    "driver = Driver(qe_options=qe_options, logfile=True)"
   ]
  },
  {
   "cell_type": "code",
   "execution_count": 8,
   "id": "2998def5",
   "metadata": {},
   "outputs": [
    {
     "data": {
      "text/plain": [
       "-39.48761700376596"
      ]
     },
     "execution_count": 8,
     "metadata": {},
     "output_type": "execute_result"
    }
   ],
   "source": [
    "driver.electrons()"
   ]
  },
  {
   "cell_type": "code",
   "execution_count": 9,
   "id": "e93e44c3",
   "metadata": {},
   "outputs": [],
   "source": [
    "driver.stop()"
   ]
  },
  {
   "cell_type": "code",
   "execution_count": 10,
   "id": "6c3d9c62",
   "metadata": {},
   "outputs": [
    {
     "data": {
      "text/plain": [
       "Atoms(symbols='Al4', pbc=True, cell=[4.05, 4.05, 4.05])"
      ]
     },
     "execution_count": 10,
     "metadata": {},
     "output_type": "execute_result"
    }
   ],
   "source": [
    "from ase.build import bulk\n",
    "atoms = bulk('Al', 'fcc', a=4.05, cubic=True)\n",
    "atoms"
   ]
  },
  {
   "cell_type": "code",
   "execution_count": 11,
   "id": "be769db1",
   "metadata": {},
   "outputs": [],
   "source": [
    "qe_options = QEInput.update_atoms(atoms, qe_options=qe_options)"
   ]
  },
  {
   "cell_type": "code",
   "execution_count": 12,
   "id": "55731d01",
   "metadata": {},
   "outputs": [
    {
     "name": "stdout",
     "output_type": "stream",
     "text": [
      "{'&control': {'calculation': \"'scf'\", 'pseudo_dir': \"'./'\"},\n",
      " '&electrons': {'mixing_beta': 0.5},\n",
      " '&system': {'degauss': 0.005,\n",
      "             'ecutwfc': 30,\n",
      "             'ibrav': 0,\n",
      "             'nat': 4,\n",
      "             'ntyp': 1,\n",
      "             'occupations': \"'smearing'\"},\n",
      " 'atomic_positions angstrom': ['Al   0.00000000000000 0.00000000000000 '\n",
      "                               '0.00000000000000',\n",
      "                               'Al   0.00000000000000 2.02500000000000 '\n",
      "                               '2.02500000000000',\n",
      "                               'Al   2.02500000000000 0.00000000000000 '\n",
      "                               '2.02500000000000',\n",
      "                               'Al   2.02500000000000 2.02500000000000 '\n",
      "                               '0.00000000000000'],\n",
      " 'atomic_species': ['Al  26.98 Al.pbe-nl-kjpaw_psl.1.0.0.UPF'],\n",
      " 'cell_parameters angstrom': ['4.05000000000000 0.00000000000000 '\n",
      "                              '0.00000000000000',\n",
      "                              '0.00000000000000 4.05000000000000 '\n",
      "                              '0.00000000000000',\n",
      "                              '0.00000000000000 0.00000000000000 '\n",
      "                              '4.05000000000000'],\n",
      " 'k_points automatic': ['2 2 2 1 1 1']}\n"
     ]
    }
   ],
   "source": [
    "pprint(qe_options)"
   ]
  },
  {
   "cell_type": "code",
   "execution_count": 13,
   "id": "4b70224c",
   "metadata": {},
   "outputs": [],
   "source": [
    "driver = Driver(qe_options=qe_options, logfile=True)"
   ]
  },
  {
   "cell_type": "code",
   "execution_count": 14,
   "id": "03164d6d",
   "metadata": {},
   "outputs": [
    {
     "data": {
      "text/plain": [
       "-39.48761699950032"
      ]
     },
     "execution_count": 14,
     "metadata": {},
     "output_type": "execute_result"
    }
   ],
   "source": [
    "driver.electrons()/4"
   ]
  },
  {
   "cell_type": "code",
   "execution_count": 15,
   "id": "90fae1ad",
   "metadata": {},
   "outputs": [],
   "source": [
    "driver.stop()"
   ]
  }
 ],
 "metadata": {
  "kernelspec": {
   "display_name": "Python 3 (ipykernel)",
   "language": "python",
   "name": "python3"
  },
  "language_info": {
   "codemirror_mode": {
    "name": "ipython",
    "version": 3
   },
   "file_extension": ".py",
   "mimetype": "text/x-python",
   "name": "python",
   "nbconvert_exporter": "python",
   "pygments_lexer": "ipython3",
   "version": "3.10.6"
  }
 },
 "nbformat": 4,
 "nbformat_minor": 5
}
