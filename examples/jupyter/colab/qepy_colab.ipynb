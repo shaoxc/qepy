{
 "cells": [
  {
   "cell_type": "code",
   "execution_count": null,
   "metadata": {
    "colab": {
     "base_uri": "https://localhost:8080/"
    },
    "id": "1PNPJIFyutM1",
    "outputId": "09c0490a-c1db-462e-e7d4-e6d65f2e9bc9"
   },
   "outputs": [],
   "source": [
    "!sudo apt-get update"
   ]
  },
  {
   "cell_type": "code",
   "execution_count": null,
   "metadata": {
    "colab": {
     "base_uri": "https://localhost:8080/"
    },
    "id": "25V7P-HRuw6y",
    "outputId": "caaaf932-4c31-43fd-873b-856249c2ecae"
   },
   "outputs": [],
   "source": [
    "!sudo apt-get install --upgrade gcc gfortran libblas-dev liblapack-dev libopenmpi-dev libfftw3-dev"
   ]
  },
  {
   "cell_type": "code",
   "execution_count": null,
   "metadata": {
    "colab": {
     "base_uri": "https://localhost:8080/"
    },
    "id": "9aUWvehCu8cn",
    "outputId": "36825350-80ce-4aea-ed6f-8da28ee5ea1d"
   },
   "outputs": [],
   "source": [
    "!wget https://gitlab.com/QEF/q-e/-/archive/qe-6.5/q-e-qe-6.5.tar.gz"
   ]
  },
  {
   "cell_type": "code",
   "execution_count": null,
   "metadata": {
    "colab": {
     "base_uri": "https://localhost:8080/"
    },
    "id": "tt4_sV7RvHzc",
    "outputId": "3ad498e0-7122-4f3d-f0c6-521a7a58f732"
   },
   "outputs": [],
   "source": [
    "!tar -xzvf q-e-qe-6.5.tar.gz"
   ]
  },
  {
   "cell_type": "code",
   "execution_count": null,
   "metadata": {
    "colab": {
     "base_uri": "https://localhost:8080/"
    },
    "id": "BmaVtQePvLqt",
    "outputId": "ce150114-2183-49d0-f92a-057495233f5b"
   },
   "outputs": [],
   "source": [
    "!cd q-e-qe-6.5; ./configure CFLAGS=-fPIC FFLAGS=-fPIC try_foxflags=-fPIC MPIF90=mpif90 --with-scalapack=no BLAS_LIBS='-lblas' LAPACK_LIBS='-llapack' "
   ]
  },
  {
   "cell_type": "code",
   "execution_count": null,
   "metadata": {
    "colab": {
     "base_uri": "https://localhost:8080/"
    },
    "id": "XjxW3MmywJRE",
    "outputId": "e3cf3635-4bde-46b4-ae85-9e1226d64542"
   },
   "outputs": [],
   "source": [
    "!cd q-e-qe-6.5; make pw"
   ]
  },
  {
   "cell_type": "code",
   "execution_count": null,
   "metadata": {
    "colab": {
     "base_uri": "https://localhost:8080/"
    },
    "id": "V_kfXQDfvVbJ",
    "outputId": "c98e584a-c718-43ef-f18e-f588ac0adc3a"
   },
   "outputs": [],
   "source": [
    "!sudo apt-get install patchelf"
   ]
  },
  {
   "cell_type": "code",
   "execution_count": null,
   "metadata": {
    "id": "MalmAafCxlkM"
   },
   "outputs": [],
   "source": [
    "!prefix=\"/usr/lib/x86_64-linux-gnu/openmpi\"; for filename in $(ls $prefix/lib/openmpi/*.so); do patchelf --add-needed libmpi.so.20 $filename; patchelf --set-rpath \"\\$ORIGIN/..\" $filename; done"
   ]
  },
  {
   "cell_type": "code",
   "execution_count": null,
   "metadata": {
    "colab": {
     "base_uri": "https://localhost:8080/"
    },
    "id": "sQmBjzKcx0Vo",
    "outputId": "7d3ba10e-6410-4d31-acf1-973112c67799"
   },
   "outputs": [],
   "source": [
    "!git clone --recurse-submodules https://gitlab.com/shaoxc/qepy.git"
   ]
  },
  {
   "cell_type": "code",
   "execution_count": null,
   "metadata": {
    "colab": {
     "base_uri": "https://localhost:8080/"
    },
    "id": "GJX-5S6wx4yN",
    "outputId": "ac629aa8-9bcf-4ae5-cb2c-8afe8121f7de"
   },
   "outputs": [],
   "source": [
    "!qedir=`pwd`/q-e-qe-6.5/ python -m pip install -U ./qepy"
   ]
  },
  {
   "cell_type": "code",
   "execution_count": null,
   "metadata": {
    "colab": {
     "base_uri": "https://localhost:8080/"
    },
    "id": "e7GnmkjIpK_A",
    "outputId": "77ed5ff4-2bb5-4b60-ce88-bf66ff09d26f"
   },
   "outputs": [],
   "source": [
    "!wget http://www.quantum-simulation.org/potentials/sg15_oncv/upf/Al_ONCV_PBE-1.2.upf ."
   ]
  },
  {
   "cell_type": "code",
   "execution_count": null,
   "metadata": {
    "id": "Q7Lmas0iyXwB"
   },
   "outputs": [],
   "source": [
    "from qepy.driver import Driver\n",
    "from qepy.io import QEInput"
   ]
  },
  {
   "cell_type": "code",
   "execution_count": null,
   "metadata": {
    "id": "Bp3rYL7wzGkz"
   },
   "outputs": [],
   "source": [
    "qe_options = {\n",
    "    '&control': {\n",
    "        'calculation': \"'scf'\",\n",
    "        'prefix': \"'Al'\",\n",
    "        'pseudo_dir': \"'./'\",\n",
    "        'restart_mode': \"'from_scratch'\"},\n",
    "    '&system': {\n",
    "        'ibrav' : 0,\n",
    "        'degauss': 0.005,\n",
    "        'ecutwfc': 30,\n",
    "        'nat': 1,\n",
    "        'ntyp': 1,\n",
    "        'occupations': \"'smearing'\"},\n",
    "    'atomic_positions crystal': ['Al    0.0  0.0  0.0'],\n",
    "    'atomic_species': ['Al  26.98 Al_ONCV_PBE-1.2.upf'],\n",
    "    'k_points automatic': ['2 2 2 0 0 0'],\n",
    "    'cell_parameters angstrom':[\n",
    "        '0.     2.025  2.025',\n",
    "        '2.025  0.     2.025',\n",
    "        '2.025  2.025  0.   '],\n",
    "}"
   ]
  },
  {
   "cell_type": "code",
   "execution_count": null,
   "metadata": {
    "id": "na03LxiC0mNA"
   },
   "outputs": [],
   "source": [
    "driver=Driver(qe_options=qe_options, logfile=True)"
   ]
  },
  {
   "cell_type": "code",
   "execution_count": null,
   "metadata": {
    "colab": {
     "base_uri": "https://localhost:8080/"
    },
    "id": "s0erJtZHyzVq",
    "outputId": "be608303-112d-49ba-ce75-b71f7f270a2c"
   },
   "outputs": [],
   "source": [
    "driver.scf()"
   ]
  },
  {
   "cell_type": "code",
   "execution_count": null,
   "metadata": {
    "id": "w3dus6YMy6sS"
   },
   "outputs": [],
   "source": [
    "driver.stop()"
   ]
  },
  {
   "cell_type": "code",
   "execution_count": null,
   "metadata": {
    "colab": {
     "base_uri": "https://localhost:8080/"
    },
    "id": "yW6CQwFY55qD",
    "outputId": "d24bc6a1-39ba-4326-8f22-803120eb3f6c"
   },
   "outputs": [],
   "source": [
    "!pip install ase"
   ]
  },
  {
   "cell_type": "code",
   "execution_count": null,
   "metadata": {
    "id": "luDxx6L317XH"
   },
   "outputs": [],
   "source": [
    "from ase.build import bulk\n",
    "atoms = bulk('Al', 'fcc', a=4.05)"
   ]
  },
  {
   "cell_type": "code",
   "execution_count": null,
   "metadata": {
    "id": "i7oJ_q4MqMcF"
   },
   "outputs": [],
   "source": [
    "atoms.set_cell(atoms.cell*1.1)"
   ]
  },
  {
   "cell_type": "code",
   "execution_count": null,
   "metadata": {
    "id": "ah-aTo3z53vb"
   },
   "outputs": [],
   "source": [
    "qe_options = QEInput().update_atoms(atoms=atoms, qe_options=qe_options)"
   ]
  },
  {
   "cell_type": "code",
   "execution_count": null,
   "metadata": {
    "id": "omcA61Mb6K7n"
   },
   "outputs": [],
   "source": [
    "driver=Driver(qe_options=qe_options, logfile=True)\n",
    "energy = driver.scf()\n",
    "driver.stop()"
   ]
  },
  {
   "cell_type": "code",
   "execution_count": null,
   "metadata": {
    "colab": {
     "base_uri": "https://localhost:8080/"
    },
    "id": "c8YPWWYUq-Jp",
    "outputId": "304c6dc5-212e-4fb6-f70a-9e6eb5e6c872"
   },
   "outputs": [],
   "source": [
    "energy"
   ]
  },
  {
   "cell_type": "code",
   "execution_count": null,
   "metadata": {
    "id": "8_54RH4zqbvV"
   },
   "outputs": [],
   "source": [
    "qe_options['&system']['ecutwfc']=40"
   ]
  },
  {
   "cell_type": "code",
   "execution_count": null,
   "metadata": {
    "id": "5xN2xxlsql5c"
   },
   "outputs": [],
   "source": [
    "driver=Driver(qe_options=qe_options, logfile=True)"
   ]
  },
  {
   "cell_type": "code",
   "execution_count": null,
   "metadata": {
    "id": "J85lX3HsqsIk"
   },
   "outputs": [],
   "source": [
    "output=driver.get_output();"
   ]
  },
  {
   "cell_type": "code",
   "execution_count": null,
   "metadata": {
    "colab": {
     "base_uri": "https://localhost:8080/"
    },
    "id": "Yjl02gOXqqC3",
    "outputId": "dd1d6ea1-3006-4aa1-8658-f9ab99669988"
   },
   "outputs": [],
   "source": [
    "energy = driver.scf()\n",
    "driver.stop()\n",
    "print(energy)"
   ]
  }
 ],
 "metadata": {
  "colab": {
   "collapsed_sections": [],
   "provenance": []
  },
  "kernelspec": {
   "display_name": "Python 3 (ipykernel)",
   "language": "python",
   "name": "python3"
  },
  "language_info": {
   "codemirror_mode": {
    "name": "ipython",
    "version": 3
   },
   "file_extension": ".py",
   "mimetype": "text/x-python",
   "name": "python",
   "nbconvert_exporter": "python",
   "pygments_lexer": "ipython3",
   "version": "3.8.10"
  }
 },
 "nbformat": 4,
 "nbformat_minor": 1
}
