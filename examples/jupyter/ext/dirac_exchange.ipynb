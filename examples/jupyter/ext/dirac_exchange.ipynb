{
 "cells": [
  {
   "cell_type": "markdown",
   "id": "5d0a114b",
   "metadata": {},
   "source": [
    "# Replace exchange-correlation by Dirac exchange."
   ]
  },
  {
   "cell_type": "code",
   "execution_count": 1,
   "id": "1e20fcc3",
   "metadata": {},
   "outputs": [],
   "source": [
    "import numpy as np\n",
    "from qepy.driver import Driver\n",
    "from qepy.io import QEInput"
   ]
  },
  {
   "cell_type": "code",
   "execution_count": 2,
   "id": "12b0a4d8",
   "metadata": {},
   "outputs": [],
   "source": [
    "from ase.io.trajectory import Trajectory\n",
    "from ase.lattice.hexagonal import Graphene\n",
    "from ase import Atoms\n",
    "import matplotlib.pyplot as plt"
   ]
  },
  {
   "cell_type": "code",
   "execution_count": 3,
   "id": "0f32a313",
   "metadata": {},
   "outputs": [],
   "source": [
    "qe_options = {\n",
    "    '&control': {\n",
    "        'calculation': \"'scf'\",\n",
    "        'pseudo_dir': \"'./'\"\n",
    "    },\n",
    "    '&system': {\n",
    "        'ibrav' : 0,\n",
    "        'degauss': 0.005,\n",
    "        'ecutwfc': 30,\n",
    "        'nat': 1,\n",
    "        'ntyp': 1,\n",
    "        'occupations': \"'smearing'\"\n",
    "    },\n",
    "    'atomic_positions crystal': ['Al    0.0  0.0  0.0'],\n",
    "    'atomic_species': ['Al  26.98 Al_ONCV_PBE-1.2.upf'],\n",
    "    'k_points automatic': ['4 4 4 0 0 0'],\n",
    "    'cell_parameters angstrom':[\n",
    "        '0.     2.025  2.025',\n",
    "        '2.025  0.     2.025',\n",
    "        '2.025  2.025  0.   '],\n",
    "}"
   ]
  },
  {
   "cell_type": "code",
   "execution_count": 4,
   "id": "e71577ae",
   "metadata": {},
   "outputs": [],
   "source": [
    "driver=Driver(qe_options=qe_options, logfile='tmp.out')"
   ]
  },
  {
   "cell_type": "code",
   "execution_count": 5,
   "id": "176e30f2",
   "metadata": {},
   "outputs": [
    {
     "data": {
      "text/plain": [
       "-137.91449174774482"
      ]
     },
     "execution_count": 5,
     "metadata": {},
     "output_type": "execute_result"
    }
   ],
   "source": [
    "driver.scf()"
   ]
  },
  {
   "cell_type": "code",
   "execution_count": 6,
   "id": "02ce26f7",
   "metadata": {},
   "outputs": [],
   "source": [
    "driver=Driver(qe_options=qe_options, iterative = True, logfile='tmp.out')"
   ]
  },
  {
   "cell_type": "code",
   "execution_count": 7,
   "id": "7041a564",
   "metadata": {},
   "outputs": [],
   "source": [
    "def diracx(rho, volume):\n",
    "    v = -np.cbrt(3.0/np.pi*rho)\n",
    "    e = np.sum((v*rho))*(3.0/4.0)*volume/rho.size\n",
    "    return v*2,e*2"
   ]
  },
  {
   "cell_type": "code",
   "execution_count": 8,
   "id": "24d5feee",
   "metadata": {},
   "outputs": [
    {
     "name": "stdout",
     "output_type": "stream",
     "text": [
      "Iter:  0  - Conv:  0.0841029689989849\n",
      "Iter:  1  - Conv:  0.0012522874439220622\n",
      "Iter:  2  - Conv:  2.8973165131754847e-05\n",
      "Iter:  3  - Conv:  6.445561502984867e-08\n"
     ]
    }
   ],
   "source": [
    "for i in range(60):\n",
    "    volume = driver.get_volume()\n",
    "    extpot, ex = diracx(driver.get_density(), volume)\n",
    "    driver.set_external_potential(potential=extpot, extene=ex, exttype=4)\n",
    "    driver.diagonalize()\n",
    "    driver.mix()\n",
    "    converged = driver.check_convergence()\n",
    "    print ('Iter: ',i,' - Conv: ', driver.get_scf_error())\n",
    "    if converged : break"
   ]
  },
  {
   "cell_type": "code",
   "execution_count": 9,
   "id": "7ae61427",
   "metadata": {},
   "outputs": [
    {
     "data": {
      "text/plain": [
       "-136.14828243776793"
      ]
     },
     "execution_count": 9,
     "metadata": {},
     "output_type": "execute_result"
    }
   ],
   "source": [
    "driver.get_energy()"
   ]
  }
 ],
 "metadata": {
  "kernelspec": {
   "display_name": "Python 3 (ipykernel)",
   "language": "python",
   "name": "python3"
  },
  "language_info": {
   "codemirror_mode": {
    "name": "ipython",
    "version": 3
   },
   "file_extension": ".py",
   "mimetype": "text/x-python",
   "name": "python",
   "nbconvert_exporter": "python",
   "pygments_lexer": "ipython3",
   "version": "3.10.6"
  }
 },
 "nbformat": 4,
 "nbformat_minor": 5
}
