{
 "cells": [
  {
   "cell_type": "markdown",
   "metadata": {},
   "source": [
    "# Iteratively run a scf job"
   ]
  },
  {
   "cell_type": "markdown",
   "metadata": {},
   "source": [
    "## Import Driver from QEpy"
   ]
  },
  {
   "cell_type": "code",
   "execution_count": 1,
   "metadata": {},
   "outputs": [],
   "source": [
    "from qepy.driver import Driver"
   ]
  },
  {
   "cell_type": "markdown",
   "metadata": {},
   "source": [
    "## Try to initialize the parallel"
   ]
  },
  {
   "cell_type": "code",
   "execution_count": 2,
   "metadata": {},
   "outputs": [],
   "source": [
    "try:\n",
    "    from mpi4py import MPI\n",
    "    comm=MPI.COMM_WORLD\n",
    "except:\n",
    "    comm=None"
   ]
  },
  {
   "cell_type": "markdown",
   "metadata": {},
   "source": [
    "## Initialize a QEpy driver"
   ]
  },
  {
   "cell_type": "code",
   "execution_count": 3,
   "metadata": {},
   "outputs": [],
   "source": [
    "driver=Driver('qe_in.in', comm=comm, iterative=True, logfile=True)\n",
    "driver.get_output();"
   ]
  },
  {
   "cell_type": "markdown",
   "metadata": {},
   "source": [
    "## Diagoalize the hamiltonian"
   ]
  },
  {
   "cell_type": "code",
   "execution_count": 4,
   "metadata": {},
   "outputs": [],
   "source": [
    "driver.diagonalize()"
   ]
  },
  {
   "cell_type": "markdown",
   "metadata": {},
   "source": [
    "## Get the output from QE"
   ]
  },
  {
   "cell_type": "code",
   "execution_count": 5,
   "metadata": {},
   "outputs": [
    {
     "name": "stdout",
     "output_type": "stream",
     "text": [
      "\n",
      "     total cpu time spent up to now is        0.1 secs\n",
      "\n",
      "     Self-consistent Calculation\n",
      "\n",
      "     iteration #  1     ecut=    40.00 Ry     beta= 0.70\n",
      "     Davidson diagonalization with overlap\n",
      "     ethr =  1.00E-02,  avg # of iterations =  6.0\n",
      "\n",
      "     Threshold (ethr) on eigenvalues was too large:\n",
      "     Diagonalizing with lowered threshold\n",
      "\n",
      "     Davidson diagonalization with overlap\n",
      "     ethr =  4.15E-04,  avg # of iterations =  6.0\n",
      "\n"
     ]
    }
   ],
   "source": [
    "print(''.join(driver.get_output()))"
   ]
  },
  {
   "cell_type": "markdown",
   "metadata": {},
   "source": [
    "## Mixing the density"
   ]
  },
  {
   "cell_type": "code",
   "execution_count": 6,
   "metadata": {},
   "outputs": [
    {
     "name": "stdout",
     "output_type": "stream",
     "text": [
      "\n",
      "     total energy              =    -547.87228845 Ry\n",
      "     Harris-Foulkes estimate   =    -552.98395983 Ry\n",
      "     estimated scf accuracy    <       0.18384145 Ry\n",
      "\n"
     ]
    }
   ],
   "source": [
    "driver.mix()\n",
    "print(''.join(driver.get_output()))"
   ]
  },
  {
   "cell_type": "markdown",
   "metadata": {},
   "source": [
    "## Repeat the diagonalize and mix"
   ]
  },
  {
   "cell_type": "code",
   "execution_count": 7,
   "metadata": {},
   "outputs": [
    {
     "name": "stdout",
     "output_type": "stream",
     "text": [
      "\n",
      "     iteration #  2     ecut=    40.00 Ry     beta= 0.70\n",
      "     Davidson diagonalization with overlap\n",
      "     ethr =  4.18E-04,  avg # of iterations =  2.0\n",
      "\n",
      "     total energy              =    -552.21322908 Ry\n",
      "     Harris-Foulkes estimate   =    -553.01029870 Ry\n",
      "     estimated scf accuracy    <       0.26179117 Ry\n",
      "\n"
     ]
    }
   ],
   "source": [
    "driver.diagonalize()\n",
    "driver.mix()\n",
    "print(''.join(driver.get_output()))"
   ]
  },
  {
   "cell_type": "markdown",
   "metadata": {},
   "source": [
    "## Repeat the diagonalize and mix, until converge"
   ]
  },
  {
   "cell_type": "code",
   "execution_count": 8,
   "metadata": {},
   "outputs": [],
   "source": [
    "for i in range(40):\n",
    "    driver.diagonalize()\n",
    "    driver.mix()\n",
    "    converged = driver.check_convergence()\n",
    "    if converged : break"
   ]
  },
  {
   "cell_type": "code",
   "execution_count": 9,
   "metadata": {},
   "outputs": [
    {
     "data": {
      "text/plain": [
       "2.5688306913268367e-09"
      ]
     },
     "execution_count": 9,
     "metadata": {},
     "output_type": "execute_result"
    }
   ],
   "source": [
    "driver.get_scf_error()"
   ]
  },
  {
   "cell_type": "code",
   "execution_count": 10,
   "metadata": {},
   "outputs": [
    {
     "data": {
      "text/plain": [
       "27"
      ]
     },
     "execution_count": 10,
     "metadata": {},
     "output_type": "execute_result"
    }
   ],
   "source": [
    "driver.get_scf_steps()"
   ]
  },
  {
   "cell_type": "code",
   "execution_count": 11,
   "metadata": {},
   "outputs": [
    {
     "data": {
      "text/plain": [
       "-552.934773888678"
      ]
     },
     "execution_count": 11,
     "metadata": {},
     "output_type": "execute_result"
    }
   ],
   "source": [
    "driver.get_energy() # Ry"
   ]
  },
  {
   "cell_type": "code",
   "execution_count": 12,
   "metadata": {},
   "outputs": [
    {
     "data": {
      "text/plain": [
       "array([[-8.35134989e-03,  3.16389945e-08,  1.39021417e-07],\n",
       "       [ 7.84463365e-03, -1.17617192e-07,  3.65640610e-08],\n",
       "       [ 7.84832955e-03,  2.96113726e-08, -1.83683263e-07],\n",
       "       [-7.34161332e-03,  5.63668249e-08,  8.09778434e-09]])"
      ]
     },
     "execution_count": 12,
     "metadata": {},
     "output_type": "execute_result"
    }
   ],
   "source": [
    "driver.get_forces() # Ry/au"
   ]
  },
  {
   "cell_type": "code",
   "execution_count": 13,
   "metadata": {},
   "outputs": [
    {
     "data": {
      "text/plain": [
       "array([[ 6.13985501e-07, -6.33438474e-12,  8.53306052e-11],\n",
       "       [-6.33438474e-12, -2.56059016e-03, -1.62509152e-10],\n",
       "       [ 8.53306052e-11, -1.62509152e-10, -2.56118400e-03]])"
      ]
     },
     "execution_count": 13,
     "metadata": {},
     "output_type": "execute_result"
    }
   ],
   "source": [
    "driver.get_stress() # Ry/bohr**3"
   ]
  },
  {
   "cell_type": "markdown",
   "metadata": {},
   "source": [
    "## Stop the driver before you run another different job"
   ]
  },
  {
   "cell_type": "code",
   "execution_count": 14,
   "metadata": {},
   "outputs": [],
   "source": [
    "driver.stop()"
   ]
  }
 ],
 "metadata": {
  "kernelspec": {
   "display_name": "Python 3 (ipykernel)",
   "language": "python",
   "name": "python3"
  },
  "language_info": {
   "codemirror_mode": {
    "name": "ipython",
    "version": 3
   },
   "file_extension": ".py",
   "mimetype": "text/x-python",
   "name": "python",
   "nbconvert_exporter": "python",
   "pygments_lexer": "ipython3",
   "version": "3.8.10"
  },
  "varInspector": {
   "cols": {
    "lenName": 16,
    "lenType": 16,
    "lenVar": 40
   },
   "kernels_config": {
    "python": {
     "delete_cmd_postfix": "",
     "delete_cmd_prefix": "del ",
     "library": "var_list.py",
     "varRefreshCmd": "print(var_dic_list())"
    },
    "r": {
     "delete_cmd_postfix": ") ",
     "delete_cmd_prefix": "rm(",
     "library": "var_list.r",
     "varRefreshCmd": "cat(var_dic_list()) "
    }
   },
   "types_to_exclude": [
    "module",
    "function",
    "builtin_function_or_method",
    "instance",
    "_Feature"
   ],
   "window_display": false
  }
 },
 "nbformat": 4,
 "nbformat_minor": 4
}
