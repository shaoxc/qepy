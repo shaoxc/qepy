{
 "cells": [
  {
   "cell_type": "markdown",
   "metadata": {},
   "source": [
    "# A simple scf job"
   ]
  },
  {
   "cell_type": "markdown",
   "metadata": {},
   "source": [
    "## Import Driver from QEpy"
   ]
  },
  {
   "cell_type": "code",
   "execution_count": 1,
   "metadata": {},
   "outputs": [],
   "source": [
    "from qepy.driver import Driver"
   ]
  },
  {
   "cell_type": "markdown",
   "metadata": {},
   "source": [
    "## Try to initialize the parallel"
   ]
  },
  {
   "cell_type": "code",
   "execution_count": 2,
   "metadata": {},
   "outputs": [],
   "source": [
    "try:\n",
    "    from mpi4py import MPI\n",
    "    comm=MPI.COMM_WORLD\n",
    "except:\n",
    "    comm=None"
   ]
  },
  {
   "cell_type": "markdown",
   "metadata": {},
   "source": [
    "**_NOTE:_**  Without `mpi4py`, the QEpy still can parallel running, but you cannot control the parallel. If you want to run a different job, you have to restart the script or the jupyter kernel."
   ]
  },
  {
   "cell_type": "markdown",
   "metadata": {},
   "source": [
    "## Initialize a QEpy driver"
   ]
  },
  {
   "cell_type": "code",
   "execution_count": 3,
   "metadata": {},
   "outputs": [],
   "source": [
    "driver=Driver('qe_in.in', comm=comm, logfile='tmp.out')"
   ]
  },
  {
   "cell_type": "markdown",
   "metadata": {},
   "source": [
    "## Run a scf"
   ]
  },
  {
   "cell_type": "code",
   "execution_count": 4,
   "metadata": {},
   "outputs": [
    {
     "data": {
      "text/plain": [
       "-552.9347738995393"
      ]
     },
     "execution_count": 4,
     "metadata": {},
     "output_type": "execute_result"
    }
   ],
   "source": [
    "driver.scf()"
   ]
  },
  {
   "cell_type": "code",
   "execution_count": 5,
   "metadata": {},
   "outputs": [
    {
     "data": {
      "text/plain": [
       "True"
      ]
     },
     "execution_count": 5,
     "metadata": {},
     "output_type": "execute_result"
    }
   ],
   "source": [
    "driver.check_convergence()"
   ]
  },
  {
   "cell_type": "code",
   "execution_count": 6,
   "metadata": {},
   "outputs": [
    {
     "data": {
      "text/plain": [
       "7.328443207463605e-10"
      ]
     },
     "execution_count": 6,
     "metadata": {},
     "output_type": "execute_result"
    }
   ],
   "source": [
    "driver.get_scf_error()"
   ]
  },
  {
   "cell_type": "code",
   "execution_count": 7,
   "metadata": {},
   "outputs": [
    {
     "data": {
      "text/plain": [
       "33"
      ]
     },
     "execution_count": 7,
     "metadata": {},
     "output_type": "execute_result"
    }
   ],
   "source": [
    "driver.get_scf_steps()"
   ]
  },
  {
   "cell_type": "code",
   "execution_count": 8,
   "metadata": {},
   "outputs": [
    {
     "data": {
      "text/plain": [
       "-552.9347738995393"
      ]
     },
     "execution_count": 8,
     "metadata": {},
     "output_type": "execute_result"
    }
   ],
   "source": [
    "driver.get_energy() # Ry"
   ]
  },
  {
   "cell_type": "code",
   "execution_count": 9,
   "metadata": {},
   "outputs": [
    {
     "data": {
      "text/plain": [
       "array([[-8.34618402e-03,  2.03773836e-07,  3.00027092e-07],\n",
       "       [ 7.84470409e-03, -1.22893331e-07, -6.85857846e-08],\n",
       "       [ 7.84457844e-03, -2.61326127e-08, -1.24209169e-07],\n",
       "       [-7.34309850e-03, -5.47478929e-08, -1.07232138e-07]])"
      ]
     },
     "execution_count": 9,
     "metadata": {},
     "output_type": "execute_result"
    }
   ],
   "source": [
    "driver.get_forces() # Ry/au"
   ]
  },
  {
   "cell_type": "code",
   "execution_count": 10,
   "metadata": {},
   "outputs": [
    {
     "data": {
      "text/plain": [
       "array([[-7.39501348e-08,  1.14099366e-10, -1.50163407e-10],\n",
       "       [ 1.14099366e-10, -2.56056681e-03,  1.19008217e-11],\n",
       "       [-1.50163407e-10,  1.19008217e-11, -2.56054591e-03]])"
      ]
     },
     "execution_count": 10,
     "metadata": {},
     "output_type": "execute_result"
    }
   ],
   "source": [
    "driver.get_stress() # Ry/bohr**3"
   ]
  },
  {
   "cell_type": "markdown",
   "metadata": {},
   "source": [
    "## Get the output from QE"
   ]
  },
  {
   "cell_type": "code",
   "execution_count": 11,
   "metadata": {},
   "outputs": [
    {
     "name": "stdout",
     "output_type": "stream",
     "text": [
      "     atom    1 type  1   force =     0.00000000    0.00000000    0.00000000\n",
      "     atom    2 type  1   force =     0.00000000    0.00000000    0.00000000\n",
      "     atom    3 type  1   force =     0.00000000    0.00000000    0.00000000\n",
      "     atom    4 type  1   force =     0.00000000    0.00000000    0.00000000\n",
      "     The SCF correction term to forces\n",
      "     atom    1 type  1   force =    -0.00005398   -0.00000078   -0.00000329\n",
      "     atom    2 type  1   force =     0.00003268    0.00000044   -0.00000254\n",
      "     atom    3 type  1   force =     0.00003557   -0.00000064    0.00000256\n",
      "     atom    4 type  1   force =    -0.00002868    0.00000080    0.00000271\n",
      "\n",
      "     Total force =     0.015705     Total SCF correction =     0.000078\n",
      "\n",
      "\n",
      "     Computing stress (Cartesian axis) and pressure\n",
      "\n",
      "          total   stress  (Ry/bohr**3)                   (kbar)     P=     -251.12\n",
      "  -0.00000007   0.00000000  -0.00000000           -0.01        0.00       -0.00\n",
      "   0.00000000  -0.00256057   0.00000000            0.00     -376.67        0.00\n",
      "  -0.00000000   0.00000000  -0.00256055           -0.00        0.00     -376.67\n",
      "\n",
      "\n"
     ]
    }
   ],
   "source": [
    "print(''.join(driver.get_output()[-20:]))"
   ]
  },
  {
   "cell_type": "markdown",
   "metadata": {},
   "source": [
    "## Stop the driver before you run another different job"
   ]
  },
  {
   "cell_type": "code",
   "execution_count": 12,
   "metadata": {},
   "outputs": [],
   "source": [
    "driver.stop()"
   ]
  }
 ],
 "metadata": {
  "kernelspec": {
   "display_name": "Python 3 (ipykernel)",
   "language": "python",
   "name": "python3"
  },
  "language_info": {
   "codemirror_mode": {
    "name": "ipython",
    "version": 3
   },
   "file_extension": ".py",
   "mimetype": "text/x-python",
   "name": "python",
   "nbconvert_exporter": "python",
   "pygments_lexer": "ipython3",
   "version": "3.10.12"
  },
  "varInspector": {
   "cols": {
    "lenName": 16,
    "lenType": 16,
    "lenVar": 40
   },
   "kernels_config": {
    "python": {
     "delete_cmd_postfix": "",
     "delete_cmd_prefix": "del ",
     "library": "var_list.py",
     "varRefreshCmd": "print(var_dic_list())"
    },
    "r": {
     "delete_cmd_postfix": ") ",
     "delete_cmd_prefix": "rm(",
     "library": "var_list.r",
     "varRefreshCmd": "cat(var_dic_list()) "
    }
   },
   "types_to_exclude": [
    "module",
    "function",
    "builtin_function_or_method",
    "instance",
    "_Feature"
   ],
   "window_display": false
  }
 },
 "nbformat": 4,
 "nbformat_minor": 4
}
