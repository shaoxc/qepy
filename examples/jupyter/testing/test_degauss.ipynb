{
 "cells": [
  {
   "cell_type": "code",
   "execution_count": 1,
   "id": "05754d04",
   "metadata": {},
   "outputs": [],
   "source": [
    "import numpy as np\n",
    "#\n",
    "import qepy\n",
    "from qepy.driver import Driver"
   ]
  },
  {
   "cell_type": "code",
   "execution_count": 2,
   "id": "86259973",
   "metadata": {},
   "outputs": [],
   "source": [
    "qe_options = {\n",
    "    '&control': {\n",
    "        'calculation': \"'scf'\",\n",
    "        'prefix': \"'al'\",\n",
    "        'pseudo_dir': \"'./'\",\n",
    "        'restart_mode': \"'from_scratch'\"},\n",
    "    '&system': {\n",
    "        'ibrav' : 0,\n",
    "        'degauss': 0.005,\n",
    "        'ecutwfc': 30,\n",
    "        'nat': 1,\n",
    "        'ntyp': 1,\n",
    "        'occupations': \"'smearing'\"},\n",
    "    'atomic_positions crystal': ['Al    0.0  0.0  0.0'],\n",
    "    'atomic_species': ['Al  26.98 Al.pbe-nl-kjpaw_psl.1.0.0.UPF'],\n",
    "    'k_points automatic': ['10 10 10 1 1 1'],\n",
    "    'cell_parameters angstrom':[\n",
    "        '0.     2.025  2.025',\n",
    "        '2.025  0.     2.025',\n",
    "        '2.025  2.025  0.   '],\n",
    "}"
   ]
  },
  {
   "cell_type": "markdown",
   "id": "ab31ae82",
   "metadata": {},
   "source": [
    "!wget http://pseudopotentials.quantum-espresso.org/upf_files/Al.pbe-nl-kjpaw_psl.1.0.0.UPF"
   ]
  },
  {
   "cell_type": "code",
   "execution_count": 3,
   "id": "2998def5",
   "metadata": {},
   "outputs": [
    {
     "name": "stdout",
     "output_type": "stream",
     "text": [
      "degauss 0.1 -39.5162595513188\n",
      "degauss 0.05 -39.50601017163104\n",
      "degauss 0.01 -39.50283398045421\n",
      "degauss 0.005 -39.50272673997722\n",
      "degauss 0.001 -39.5026782884723\n",
      "CPU times: user 8.45 s, sys: 337 ms, total: 8.79 s\n",
      "Wall time: 9.17 s\n"
     ]
    }
   ],
   "source": [
    "%%time\n",
    "degs= [1E-1, 5E-2, 1E-2, 5E-3, 1E-3]\n",
    "energies = []\n",
    "for degauss in degs:\n",
    "    qe_options['&system']['degauss'] = degauss\n",
    "    #\n",
    "    driver = Driver(qe_options=qe_options, logfile=True)\n",
    "    ene = driver.electrons()\n",
    "    print('degauss',degauss, ene)\n",
    "    energies.append(ene)\n",
    "    driver.stop()"
   ]
  },
  {
   "cell_type": "code",
   "execution_count": 4,
   "id": "d2882ab8",
   "metadata": {},
   "outputs": [
    {
     "data": {
      "image/png": "[encoded data removed]",
      "text/plain": [
       "<Figure size 432x288 with 1 Axes>"
      ]
     },
     "metadata": {
      "needs_background": "light"
     },
     "output_type": "display_data"
    }
   ],
   "source": [
    "import matplotlib.pyplot as plt\n",
    "\n",
    "energies=np.asarray(energies)\n",
    "fig, ax = plt.subplots()\n",
    "ax.plot(degs, np.abs(energies-energies[-1]))\n",
    "ax.set_xscale('log')\n",
    "ax.invert_xaxis()"
   ]
  },
  {
   "cell_type": "code",
   "execution_count": 5,
   "id": "3218d83f",
   "metadata": {},
   "outputs": [],
   "source": [
    "qe_options['&system']['degauss'] = 0.1\n",
    "driver = Driver(qe_options=qe_options, logfile=True)"
   ]
  },
  {
   "cell_type": "code",
   "execution_count": 6,
   "id": "edfa43ee",
   "metadata": {},
   "outputs": [
    {
     "name": "stdout",
     "output_type": "stream",
     "text": [
      "degauss 0.1 -39.516259551357265\n",
      "degauss 0.05 -39.50601017027766\n",
      "degauss 0.01 -39.50283396899011\n",
      "degauss 0.005 -39.50272674364163\n",
      "degauss 0.001 -39.50267829137187\n",
      "CPU times: user 2.27 s, sys: 188 ms, total: 2.46 s\n",
      "Wall time: 2.46 s\n"
     ]
    }
   ],
   "source": [
    "%%time\n",
    "degs= [1E-1, 5E-2, 1E-2, 5E-3, 1E-3]\n",
    "energies2 = []\n",
    "for degauss in degs:\n",
    "    #\n",
    "    qepy.klist.set_degauss(degauss)\n",
    "    ene = driver.electrons()\n",
    "    print('degauss',degauss, ene)\n",
    "    energies2.append(ene)"
   ]
  },
  {
   "cell_type": "code",
   "execution_count": 7,
   "id": "4cc31094",
   "metadata": {},
   "outputs": [
    {
     "data": {
      "text/plain": [
       "<matplotlib.legend.Legend at 0x1502d4eebb50>"
      ]
     },
     "execution_count": 7,
     "metadata": {},
     "output_type": "execute_result"
    },
    {
     "data": {
      "image/png": "[encoded data removed]",
      "text/plain": [
       "<Figure size 432x288 with 1 Axes>"
      ]
     },
     "metadata": {
      "needs_background": "light"
     },
     "output_type": "display_data"
    }
   ],
   "source": [
    "energies=np.asarray(energies)\n",
    "energies2=np.asarray(energies2)\n",
    "fig, ax = plt.subplots()\n",
    "ax.plot(degs, np.abs(energies-energies[-1]), label='Normal')\n",
    "ax.plot(degs, np.abs(energies2-energies2[-1]), 'r-.', label='Python')\n",
    "ax.set_xscale('log')\n",
    "ax.invert_xaxis()\n",
    "ax.legend()"
   ]
  },
  {
   "cell_type": "code",
   "execution_count": 8,
   "id": "1d1c0e43",
   "metadata": {},
   "outputs": [],
   "source": [
    "driver.stop()"
   ]
  }
 ],
 "metadata": {
  "kernelspec": {
   "display_name": "Python 3 (ipykernel)",
   "language": "python",
   "name": "python3"
  },
  "language_info": {
   "codemirror_mode": {
    "name": "ipython",
    "version": 3
   },
   "file_extension": ".py",
   "mimetype": "text/x-python",
   "name": "python",
   "nbconvert_exporter": "python",
   "pygments_lexer": "ipython3",
   "version": "3.8.10"
  }
 },
 "nbformat": 4,
 "nbformat_minor": 5
}
