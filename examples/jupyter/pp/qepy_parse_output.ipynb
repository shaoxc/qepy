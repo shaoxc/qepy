{
 "cells": [
  {
   "cell_type": "markdown",
   "id": "5d0a114b",
   "metadata": {},
   "source": [
    "# Compute some potentials from QE"
   ]
  },
  {
   "cell_type": "code",
   "execution_count": 1,
   "id": "1e20fcc3",
   "metadata": {},
   "outputs": [],
   "source": [
    "import numpy as np\n",
    "from qepy.driver import Driver\n",
    "from qepy.io import QEInput, QEOutput"
   ]
  },
  {
   "cell_type": "code",
   "execution_count": 2,
   "id": "0f32a313",
   "metadata": {},
   "outputs": [],
   "source": [
    "qe_options = {\n",
    "    '&control': {\n",
    "        'prefix' : \"'tmp'\",\n",
    "        'outdir' : \"'./'\",\n",
    "        'calculation': \"'scf'\",\n",
    "        'pseudo_dir': \"'./'\"\n",
    "    },\n",
    "    '&system': {\n",
    "        'ibrav' : 0,\n",
    "        'degauss': 0.005,\n",
    "        'ecutwfc': 30,\n",
    "        'nat': 2,\n",
    "        'ntyp': 1,\n",
    "        'occupations': \"'smearing'\",\n",
    "        'input_dft' : \"'PBE'\"\n",
    "    },\n",
    "    '&electrons': {\n",
    "        'conv_thr' : 1e-8\n",
    "    },\n",
    "    'atomic_species': ['Al  26.98 Al_ONCV_PBE-1.2.upf'],\n",
    "    'k_points automatic': ['2 2 2 0 0 0'],\n",
    "}"
   ]
  },
  {
   "cell_type": "code",
   "execution_count": 3,
   "id": "09ae343b-a021-4967-b97d-2d0610deb535",
   "metadata": {
    "tags": []
   },
   "outputs": [],
   "source": [
    "from ase.build import bulk\n",
    "atoms = bulk('Al', 'fcc', a = 4.05, cubic=True)\n",
    "atoms.positions[0,0] = 0.2"
   ]
  },
  {
   "cell_type": "code",
   "execution_count": 4,
   "id": "b65cbcca",
   "metadata": {},
   "outputs": [],
   "source": [
    "driver=Driver(qe_options=qe_options, logfile=True, atoms=atoms)"
   ]
  },
  {
   "cell_type": "code",
   "execution_count": 5,
   "id": "c62c8863-d18c-47e9-b2cd-eb0895b91a3f",
   "metadata": {
    "tags": []
   },
   "outputs": [
    {
     "data": {
      "text/plain": [
       "-551.5572382538037"
      ]
     },
     "execution_count": 5,
     "metadata": {},
     "output_type": "execute_result"
    }
   ],
   "source": [
    "driver.electrons()"
   ]
  },
  {
   "cell_type": "code",
   "execution_count": 6,
   "id": "b81e2290-3e00-4e5c-bcc7-3c4cbc106e7f",
   "metadata": {
    "tags": []
   },
   "outputs": [],
   "source": [
    "# driver.qepy.control_flags.set_iverbosity(1)\n",
    "# forces_total = driver.get_forces()\n",
    "# stress_total = driver.get_stress()"
   ]
  },
  {
   "cell_type": "code",
   "execution_count": 7,
   "id": "f98f6336-c1fb-4413-b70e-628ef0b266d9",
   "metadata": {},
   "outputs": [],
   "source": [
    "output = driver.get_output()"
   ]
  },
  {
   "cell_type": "markdown",
   "id": "967dce43-89df-4732-b40f-f791259c159a",
   "metadata": {
    "tags": []
   },
   "source": [
    "## Compute Forces and Stress"
   ]
  },
  {
   "cell_type": "markdown",
   "id": "9a9a80bd-11ee-49dd-9481-c87f66b934b8",
   "metadata": {
    "tags": []
   },
   "source": [
    "> **NOTE** `Turn the following on to print all the information`"
   ]
  },
  {
   "cell_type": "code",
   "execution_count": 8,
   "id": "0f437094-c91a-4d5b-a17f-7a5ca0b1b68b",
   "metadata": {
    "tags": []
   },
   "outputs": [],
   "source": [
    "# driver.qepy.control_flags.set_iverbosity(1)"
   ]
  },
  {
   "cell_type": "code",
   "execution_count": 9,
   "id": "afd535e8-d46e-4aad-bbd3-56585f3fdda2",
   "metadata": {
    "tags": []
   },
   "outputs": [
    {
     "data": {
      "text/plain": [
       "['\\n',\n",
       " '     Forces acting on atoms (cartesian axes, Ry/au):\\n',\n",
       " '\\n',\n",
       " '     atom    1 type  1   force =    -0.03330810    0.00000000    0.00000000\\n',\n",
       " '     atom    2 type  1   force =    -0.00527465    0.00000000    0.00000000\\n',\n",
       " '     atom    3 type  1   force =     0.01929137    0.00000000    0.00000000\\n',\n",
       " '     atom    4 type  1   force =     0.01929137    0.00000000    0.00000000\\n',\n",
       " '\\n',\n",
       " '     Total force =     0.043377     Total SCF correction =     0.000092\\n']"
      ]
     },
     "execution_count": 9,
     "metadata": {},
     "output_type": "execute_result"
    }
   ],
   "source": [
    "forces_total = driver.get_forces()\n",
    "output_forces = driver.get_output()\n",
    "output_forces"
   ]
  },
  {
   "cell_type": "code",
   "execution_count": 10,
   "id": "5de9c191-499a-4d17-8f05-c044b306c2f0",
   "metadata": {},
   "outputs": [
    {
     "data": {
      "text/plain": [
       "['\\n',\n",
       " '\\n',\n",
       " '     Computing stress (Cartesian axis) and pressure\\n',\n",
       " '\\n',\n",
       " '          total   stress  (Ry/bohr**3)                   (kbar)     P=    -2825.01\\n',\n",
       " '  -0.01935794   0.00000000   0.00000000        -2847.65        0.00        0.00\\n',\n",
       " '   0.00000000  -0.01912710   0.00000000            0.00    -2813.69        0.00\\n',\n",
       " '   0.00000000   0.00000000  -0.01912710            0.00        0.00    -2813.69\\n',\n",
       " '\\n']"
      ]
     },
     "execution_count": 10,
     "metadata": {},
     "output_type": "execute_result"
    }
   ],
   "source": [
    "stress_total = driver.get_stress()\n",
    "output_stress = driver.get_output()\n",
    "output_stress"
   ]
  },
  {
   "cell_type": "code",
   "execution_count": 11,
   "id": "321c56d4-b62b-412e-ad44-13cbf825a6b4",
   "metadata": {
    "tags": []
   },
   "outputs": [],
   "source": [
    "forces = QEOutput.get_forces_all(output_forces, nat=len(atoms))\n",
    "# forces = QEOutput.get_forces_all(output, nat=len(atoms))"
   ]
  },
  {
   "cell_type": "code",
   "execution_count": 12,
   "id": "5a8460cc-f9ad-42d3-8442-96bddaa22ee2",
   "metadata": {
    "tags": []
   },
   "outputs": [
    {
     "data": {
      "text/plain": [
       "{'total': array([[-0.0333081 ,  0.        ,  0.        ],\n",
       "        [-0.00527465,  0.        ,  0.        ],\n",
       "        [ 0.01929137,  0.        ,  0.        ],\n",
       "        [ 0.01929137,  0.        ,  0.        ]])}"
      ]
     },
     "execution_count": 12,
     "metadata": {},
     "output_type": "execute_result"
    }
   ],
   "source": [
    "forces"
   ]
  },
  {
   "cell_type": "code",
   "execution_count": 13,
   "id": "c648d3c5-673b-449e-a3b4-3f1433449546",
   "metadata": {
    "tags": []
   },
   "outputs": [],
   "source": [
    "if len(forces)>2:\n",
    "    error=0.0\n",
    "    for k, v in forces.items():\n",
    "        if k=='total' :\n",
    "            error -= v\n",
    "        else:\n",
    "            error += v\n",
    "    print(error)"
   ]
  },
  {
   "cell_type": "code",
   "execution_count": 14,
   "id": "c72d92f1-8e0d-41c5-a6db-b92dbbeeb464",
   "metadata": {
    "tags": []
   },
   "outputs": [],
   "source": [
    "stress = QEOutput.get_stress_all(output_stress)\n",
    "# stress = QEOutput.get_stress_all(output)"
   ]
  },
  {
   "cell_type": "code",
   "execution_count": 15,
   "id": "6f4c670e-f24e-4024-9110-0dbfc611bfcf",
   "metadata": {
    "tags": []
   },
   "outputs": [
    {
     "data": {
      "text/plain": [
       "{'total': array([[-2847.65,     0.  ,     0.  ],\n",
       "        [    0.  , -2813.69,     0.  ],\n",
       "        [    0.  ,     0.  , -2813.69]])}"
      ]
     },
     "execution_count": 15,
     "metadata": {},
     "output_type": "execute_result"
    }
   ],
   "source": [
    "stress"
   ]
  },
  {
   "cell_type": "code",
   "execution_count": 16,
   "id": "947b4022-88de-466c-80cd-457e73608e94",
   "metadata": {
    "tags": []
   },
   "outputs": [],
   "source": [
    "if len(stress) > 1:\n",
    "    error=0.0\n",
    "    for k, v in stress.items():\n",
    "        if k=='total' :\n",
    "            error -= v\n",
    "        else:\n",
    "            error += v\n",
    "    print(error)"
   ]
  }
 ],
 "metadata": {
  "kernelspec": {
   "display_name": "Python 3 (ipykernel)",
   "language": "python",
   "name": "python3"
  },
  "language_info": {
   "codemirror_mode": {
    "name": "ipython",
    "version": 3
   },
   "file_extension": ".py",
   "mimetype": "text/x-python",
   "name": "python",
   "nbconvert_exporter": "python",
   "pygments_lexer": "ipython3",
   "version": "3.10.6"
  }
 },
 "nbformat": 4,
 "nbformat_minor": 5
}
