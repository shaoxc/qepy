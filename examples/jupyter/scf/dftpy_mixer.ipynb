{
 "cells": [
  {
   "cell_type": "markdown",
   "id": "5d0a114b",
   "metadata": {},
   "source": [
    "# Using DFTpy mixer"
   ]
  },
  {
   "cell_type": "code",
   "execution_count": 1,
   "id": "e1038e61",
   "metadata": {},
   "outputs": [],
   "source": [
    "import _qepy\n",
    "import qepy\n",
    "import importlib"
   ]
  },
  {
   "cell_type": "code",
   "execution_count": 2,
   "id": "1e20fcc3",
   "metadata": {},
   "outputs": [],
   "source": [
    "import numpy as np\n",
    "from qepy.driver import Driver\n",
    "from qepy.io import QEInput"
   ]
  },
  {
   "cell_type": "code",
   "execution_count": 3,
   "id": "12b0a4d8",
   "metadata": {},
   "outputs": [],
   "source": [
    "from ase.io.trajectory import Trajectory\n",
    "from ase.lattice.hexagonal import Graphene\n",
    "from ase import Atoms\n",
    "import matplotlib.pyplot as plt"
   ]
  },
  {
   "cell_type": "code",
   "execution_count": 4,
   "id": "0f32a313",
   "metadata": {},
   "outputs": [],
   "source": [
    "qe_options = {\n",
    "    '&control': {\n",
    "        'calculation': \"'scf'\",\n",
    "        'pseudo_dir': \"'./'\"\n",
    "    },\n",
    "    '&system': {\n",
    "        'ibrav' : 0,\n",
    "        'degauss': 0.005,\n",
    "        'ecutwfc': 30,\n",
    "        'nat': 1,\n",
    "        'ntyp': 1,\n",
    "        'occupations': \"'smearing'\",\n",
    "        'input_dft' : \"'PBE'\"\n",
    "    },\n",
    "    '&electrons': {\n",
    "        'conv_thr' : 1e-8\n",
    "    },\n",
    "    'atomic_positions crystal': ['Al    0.0  0.0  0.0'],\n",
    "    'atomic_species': ['Al  26.98 Al_ONCV_PBE-1.2.upf'],\n",
    "    'k_points automatic': ['4 4 4 0 0 0'],\n",
    "    'cell_parameters angstrom':[\n",
    "        '0.     2.025  2.025',\n",
    "        '2.025  0.     2.025',\n",
    "        '2.025  2.025  0.   '],\n",
    "}"
   ]
  },
  {
   "cell_type": "code",
   "execution_count": 5,
   "id": "b65cbcca",
   "metadata": {},
   "outputs": [],
   "source": [
    "driver=Driver(qe_options=qe_options, iterative = True, logfile='tmp.out')"
   ]
  },
  {
   "cell_type": "code",
   "execution_count": 6,
   "id": "02ce26f7",
   "metadata": {},
   "outputs": [
    {
     "name": "stdout",
     "output_type": "stream",
     "text": [
      "Iter:  0  - Conv:  0.07423450252710213\n",
      "Iter:  1  - Conv:  0.0014686764583955348\n",
      "Iter:  2  - Conv:  3.4654773793272354e-05\n",
      "Iter:  3  - Conv:  6.680306265302417e-08\n",
      "Iter:  4  - Conv:  2.5412863642447476e-09\n"
     ]
    },
    {
     "data": {
      "text/plain": [
       "-137.91449178319718"
      ]
     },
     "execution_count": 6,
     "metadata": {},
     "output_type": "execute_result"
    }
   ],
   "source": [
    "for i in range(60):\n",
    "    driver.diagonalize()\n",
    "    driver.mix()\n",
    "    converged = driver.check_convergence()\n",
    "    print ('Iter: ',i,' - Conv: ', driver.get_scf_error())\n",
    "    if converged : break\n",
    "driver.calc_energy()"
   ]
  },
  {
   "cell_type": "code",
   "execution_count": 7,
   "id": "dadff527-c3f9-4a3c-9476-3f933e4bd850",
   "metadata": {
    "tags": []
   },
   "outputs": [],
   "source": [
    "from dftpy.functional import Hartree"
   ]
  },
  {
   "cell_type": "code",
   "execution_count": 8,
   "id": "0a323832",
   "metadata": {},
   "outputs": [],
   "source": [
    "driver=Driver(qe_options=qe_options, iterative = True, logfile='tmp.2.out')"
   ]
  },
  {
   "cell_type": "code",
   "execution_count": 9,
   "id": "73361d1a-3ac6-4fd9-9074-22fe69cbb639",
   "metadata": {},
   "outputs": [
    {
     "name": "stdout",
     "output_type": "stream",
     "text": [
      "Iter:  0  - Conv:  0.03712146707277951\n",
      "Iter:  1  - Conv:  0.0007346997237828299\n",
      "Iter:  2  - Conv:  3.914394446485253e-05\n",
      "Iter:  3  - Conv:  3.3366355611395276e-06\n",
      "Iter:  4  - Conv:  3.240568487976684e-07\n",
      "Iter:  5  - Conv:  3.072301214068241e-08\n",
      "Iter:  6  - Conv:  2.813491299355543e-09\n"
     ]
    },
    {
     "data": {
      "text/plain": [
       "-137.914491783489"
      ]
     },
     "execution_count": 9,
     "metadata": {},
     "output_type": "execute_result"
    }
   ],
   "source": [
    "rho = driver.get_density().copy()\n",
    "coef = 0.7\n",
    "for i in range(10):\n",
    "    driver.diagonalize()\n",
    "    #\n",
    "    rho_new = driver.get_density().copy()\n",
    "    drho = driver.data2field(rho_new-rho)\n",
    "    error = Hartree.compute(drho).energy\n",
    "    print ('Iter: ',i,' - Conv: ', error)\n",
    "    if error < 1e-8:\n",
    "        driver.end_scf()\n",
    "        break\n",
    "    #\n",
    "    rho = (1-coef)*rho + coef * rho_new\n",
    "    driver.set_density(rho)\n",
    "driver.calc_energy()"
   ]
  },
  {
   "cell_type": "code",
   "execution_count": 10,
   "id": "1dc990eb-6db7-4c08-82be-3c93da349dcb",
   "metadata": {},
   "outputs": [],
   "source": [
    "driver=Driver(qe_options=qe_options, iterative = True, logfile='tmp.3.out')"
   ]
  },
  {
   "cell_type": "code",
   "execution_count": 11,
   "id": "176e30f2",
   "metadata": {},
   "outputs": [],
   "source": [
    "from dftpy.mixer import Mixer\n",
    "driver.mixer = Mixer(scheme='pulay')"
   ]
  },
  {
   "cell_type": "code",
   "execution_count": 12,
   "id": "24d5feee",
   "metadata": {},
   "outputs": [
    {
     "name": "stdout",
     "output_type": "stream",
     "text": [
      "Iter:  0  - Conv:  0.037130390200344775\n",
      "Iter:  1  - Conv:  0.0007344758020421512\n",
      "Iter:  2  - Conv:  1.3112210595090678e-05\n",
      "Iter:  3  - Conv:  6.112684999094081e-08\n",
      "Iter:  4  - Conv:  3.238350933236666e-10\n"
     ]
    },
    {
     "data": {
      "text/plain": [
       "-137.91449178172286"
      ]
     },
     "execution_count": 12,
     "metadata": {},
     "output_type": "execute_result"
    }
   ],
   "source": [
    "rho = driver.data2field(driver.get_density().copy())\n",
    "for i in range(10):\n",
    "    driver.diagonalize()\n",
    "    #\n",
    "    rho_new = driver.data2field(driver.get_density().copy())\n",
    "    error = Hartree.compute(rho_new-rho).energy\n",
    "    print ('Iter: ',i,' - Conv: ', error)\n",
    "    if error < 1e-8:\n",
    "        driver.end_scf()\n",
    "        break\n",
    "    #\n",
    "    rho = driver.mixer(rho, rho_new, coef=0.7)\n",
    "    density = driver.field2data(rho)\n",
    "    driver.set_density(density)\n",
    "driver.calc_energy()"
   ]
  },
  {
   "cell_type": "code",
   "execution_count": 13,
   "id": "0d4204f7",
   "metadata": {},
   "outputs": [],
   "source": [
    "ions = driver.get_dftpy_ions()"
   ]
  },
  {
   "cell_type": "code",
   "execution_count": 14,
   "id": "3f41ecbc",
   "metadata": {},
   "outputs": [],
   "source": [
    "rho.write('tmp.xsf', ions=ions)"
   ]
  }
 ],
 "metadata": {
  "kernelspec": {
   "display_name": "Python 3 (ipykernel)",
   "language": "python",
   "name": "python3"
  },
  "language_info": {
   "codemirror_mode": {
    "name": "ipython",
    "version": 3
   },
   "file_extension": ".py",
   "mimetype": "text/x-python",
   "name": "python",
   "nbconvert_exporter": "python",
   "pygments_lexer": "ipython3",
   "version": "3.10.6"
  }
 },
 "nbformat": 4,
 "nbformat_minor": 5
}
