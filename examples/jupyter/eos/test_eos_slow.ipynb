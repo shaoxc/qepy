{
 "cells": [
  {
   "cell_type": "markdown",
   "id": "bd26709c",
   "metadata": {},
   "source": [
    "# Calculate EOS but every step re-run QE"
   ]
  },
  {
   "cell_type": "code",
   "execution_count": 1,
   "id": "11265796",
   "metadata": {},
   "outputs": [],
   "source": [
    "import numpy as np\n",
    "from ase.build import bulk\n",
    "from ase.io.trajectory import Trajectory\n",
    "#\n",
    "from qepy.calculator import QEpyCalculator"
   ]
  },
  {
   "cell_type": "code",
   "execution_count": 2,
   "id": "74798c69",
   "metadata": {},
   "outputs": [],
   "source": [
    "qe_options = {\n",
    "    '&control': {\n",
    "        'calculation': \"'scf'\",\n",
    "        'pseudo_dir': \"'./'\",\n",
    "    },\n",
    "    '&system': {\n",
    "        'ibrav' : 0,\n",
    "        'degauss': 0.005,\n",
    "        'ecutwfc': 30,\n",
    "        'occupations': \"'smearing'\"\n",
    "    },\n",
    "    'atomic_species': ['Al  26.98 Al.pbe-nl-kjpaw_psl.1.0.0.UPF'],\n",
    "    'k_points automatic': ['10 10 10 1 1 1'],\n",
    "}"
   ]
  },
  {
   "cell_type": "markdown",
   "id": "52320804",
   "metadata": {},
   "source": [
    "!wget http://pseudopotentials.quantum-espresso.org/upf_files/Al.pbe-nl-kjpaw_psl.1.0.0.UPF"
   ]
  },
  {
   "cell_type": "code",
   "execution_count": 3,
   "id": "b5219c77",
   "metadata": {},
   "outputs": [],
   "source": [
    "al = bulk('Al', 'fcc', a=4.05)"
   ]
  },
  {
   "cell_type": "code",
   "execution_count": 4,
   "id": "b9ad4c81",
   "metadata": {},
   "outputs": [],
   "source": [
    "calc = QEpyCalculator(qe_options=qe_options, logfile=True, extrapolation=False)\n",
    "# every step will write a new input file, and re-run QE\n",
    "al.calc=calc"
   ]
  },
  {
   "cell_type": "code",
   "execution_count": 5,
   "id": "e80d48c5",
   "metadata": {},
   "outputs": [
    {
     "name": "stdout",
     "output_type": "stream",
     "text": [
      "CPU times: user 11.4 s, sys: 1.26 s, total: 12.6 s\n",
      "Wall time: 11.7 s\n"
     ]
    }
   ],
   "source": [
    "%%time\n",
    "traj = Trajectory('tmp.traj', 'w')\n",
    "cell = al.get_cell()\n",
    "volumes = []\n",
    "energies = []\n",
    "for x in np.linspace(0.9, 1.1, 6):\n",
    "    al.set_cell(cell * x, scale_atoms=True)\n",
    "    vol = al.get_volume()\n",
    "    ene = al.get_potential_energy()\n",
    "    volumes.append(vol)\n",
    "    energies.append(ene)\n",
    "    traj.write(al)"
   ]
  },
  {
   "cell_type": "code",
   "execution_count": 6,
   "id": "89b4fa97",
   "metadata": {},
   "outputs": [
    {
     "name": "stdout",
     "output_type": "stream",
     "text": [
      "76.98787048966183 GPa\n"
     ]
    },
    {
     "data": {
      "image/png": "[encoded data removed]",
      "text/plain": [
       "<Figure size 432x288 with 1 Axes>"
      ]
     },
     "metadata": {
      "needs_background": "light"
     },
     "output_type": "display_data"
    }
   ],
   "source": [
    "from ase.units import kJ\n",
    "from ase.eos import EquationOfState\n",
    "eos = EquationOfState(volumes, energies)\n",
    "v0, e0, B = eos.fit()\n",
    "print(B / kJ * 1.0e24, 'GPa')\n",
    "eos.plot('tmp.eos.png');"
   ]
  }
 ],
 "metadata": {
  "kernelspec": {
   "display_name": "Python 3 (ipykernel)",
   "language": "python",
   "name": "python3"
  },
  "language_info": {
   "codemirror_mode": {
    "name": "ipython",
    "version": 3
   },
   "file_extension": ".py",
   "mimetype": "text/x-python",
   "name": "python",
   "nbconvert_exporter": "python",
   "pygments_lexer": "ipython3",
   "version": "3.8.10"
  }
 },
 "nbformat": 4,
 "nbformat_minor": 5
}
