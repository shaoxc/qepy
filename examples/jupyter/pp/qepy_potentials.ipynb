{
 "cells": [
  {
   "cell_type": "markdown",
   "id": "5d0a114b",
   "metadata": {},
   "source": [
    "# Compute some potentials from QE"
   ]
  },
  {
   "cell_type": "code",
   "execution_count": 1,
   "id": "1e20fcc3",
   "metadata": {},
   "outputs": [],
   "source": [
    "import numpy as np\n",
    "from qepy.driver import Driver\n",
    "from qepy.io import QEInput"
   ]
  },
  {
   "cell_type": "code",
   "execution_count": 2,
   "id": "0f32a313",
   "metadata": {},
   "outputs": [],
   "source": [
    "qe_options = {\n",
    "    '&control': {\n",
    "        'prefix' : \"'tmp'\",\n",
    "        'outdir' : \"'./'\",\n",
    "        'calculation': \"'scf'\",\n",
    "        'pseudo_dir': \"'./'\"\n",
    "    },\n",
    "    '&system': {\n",
    "        'ibrav' : 0,\n",
    "        'degauss': 0.005,\n",
    "        'ecutwfc': 30,\n",
    "        'nat': 1,\n",
    "        'ntyp': 1,\n",
    "        'occupations': \"'smearing'\",\n",
    "        'input_dft' : \"'PBE'\"\n",
    "    },\n",
    "    '&electrons': {\n",
    "        'conv_thr' : 1e-8\n",
    "    },\n",
    "    'atomic_positions crystal': ['Al    0.0  0.0  0.0'],\n",
    "    'atomic_species': ['Al  26.98 Al_ONCV_PBE-1.2.upf'],\n",
    "    'k_points automatic': ['4 4 4 0 0 0'],\n",
    "    'cell_parameters angstrom':[\n",
    "        '0.     2.025  2.025',\n",
    "        '2.025  0.     2.025',\n",
    "        '2.025  2.025  0.   '],\n",
    "}"
   ]
  },
  {
   "cell_type": "code",
   "execution_count": 3,
   "id": "b65cbcca",
   "metadata": {},
   "outputs": [],
   "source": [
    "driver=Driver(qe_options=qe_options, logfile='tmp.out')"
   ]
  },
  {
   "cell_type": "code",
   "execution_count": 4,
   "id": "c62c8863-d18c-47e9-b2cd-eb0895b91a3f",
   "metadata": {
    "tags": []
   },
   "outputs": [
    {
     "data": {
      "text/plain": [
       "-137.91449178319868"
      ]
     },
     "execution_count": 4,
     "metadata": {},
     "output_type": "execute_result"
    }
   ],
   "source": [
    "driver.electrons()"
   ]
  },
  {
   "cell_type": "markdown",
   "id": "ab6a17ef-2b9e-49af-bfcc-59276cb097a9",
   "metadata": {
    "tags": []
   },
   "source": [
    "### Get local potential"
   ]
  },
  {
   "cell_type": "code",
   "execution_count": 5,
   "id": "5107cb28-7c80-48b9-b562-5b5b9185dba6",
   "metadata": {
    "tags": []
   },
   "outputs": [],
   "source": [
    "v_loc = driver.get_local_pp()"
   ]
  },
  {
   "cell_type": "markdown",
   "id": "badde50b-e81f-42ff-969c-d670bdb28806",
   "metadata": {
    "tags": []
   },
   "source": [
    "### Compute hartree potential"
   ]
  },
  {
   "cell_type": "code",
   "execution_count": 6,
   "id": "ee643c08-d5ac-4d9e-8f99-d3451708fec8",
   "metadata": {
    "tags": []
   },
   "outputs": [],
   "source": [
    "v_h = driver.get_hartree_potential()"
   ]
  },
  {
   "cell_type": "markdown",
   "id": "7c2eeb5f-df12-43aa-b78d-34f452edaf2b",
   "metadata": {
    "tags": []
   },
   "source": [
    "### Compute xc potential"
   ]
  },
  {
   "cell_type": "code",
   "execution_count": 7,
   "id": "53fd2690-e83e-4a16-9826-4cbe3b391602",
   "metadata": {
    "tags": []
   },
   "outputs": [],
   "source": [
    "v_xc = driver.get_exchange_correlation_potential()"
   ]
  },
  {
   "cell_type": "markdown",
   "id": "29fd493b-d6f7-41f8-b8d8-7096dde828e6",
   "metadata": {
    "tags": []
   },
   "source": [
    "### Additional potential can be evaluate by following"
   ]
  },
  {
   "cell_type": "code",
   "execution_count": 8,
   "id": "85c7ff11-cd86-422d-88af-ed8591846664",
   "metadata": {
    "tags": []
   },
   "outputs": [],
   "source": [
    "exttype = driver.embed.exttype\n",
    "driver.embed.exttype=7\n",
    "v_add = driver.get_density_functional_potential()\n",
    "driver.embed.exttype = exttype"
   ]
  },
  {
   "cell_type": "code",
   "execution_count": 9,
   "id": "7b9e5d08-4451-4cb1-bdea-24ae5a991aa1",
   "metadata": {
    "tags": []
   },
   "outputs": [],
   "source": [
    "v_total = v_loc + v_h + v_xc + v_add"
   ]
  },
  {
   "cell_type": "markdown",
   "id": "1f996b0b-3d68-4a2d-b7de-176a123b6f4a",
   "metadata": {
    "tags": []
   },
   "source": [
    "### Check the total potential"
   ]
  },
  {
   "cell_type": "code",
   "execution_count": 10,
   "id": "4b1f5516-0544-47d9-8695-2cb9f3fe9784",
   "metadata": {
    "tags": []
   },
   "outputs": [],
   "source": [
    "exttype = driver.embed.exttype\n",
    "driver.embed.exttype = 0\n",
    "v_ref = driver.get_effective_potential()\n",
    "driver.embed.exttype = exttype"
   ]
  },
  {
   "cell_type": "code",
   "execution_count": 11,
   "id": "0df3799c-34e1-4780-a966-1ff5e08b4027",
   "metadata": {
    "tags": []
   },
   "outputs": [
    {
     "name": "stdout",
     "output_type": "stream",
     "text": [
      "2.220446049250313e-16\n"
     ]
    }
   ],
   "source": [
    "print((v_ref-v_total).max())"
   ]
  },
  {
   "cell_type": "code",
   "execution_count": 12,
   "id": "46221091-ab48-4496-b055-3261f7698fdd",
   "metadata": {
    "tags": []
   },
   "outputs": [
    {
     "name": "stdout",
     "output_type": "stream",
     "text": [
      "[-20.91332811 -18.49155397] -4627.035198681418\n"
     ]
    }
   ],
   "source": [
    "if driver.is_root:\n",
    "    print(v_total[:2,0], v_total.sum())"
   ]
  },
  {
   "cell_type": "markdown",
   "id": "10a8c8ed-219b-476c-83ea-286e512b7dbf",
   "metadata": {
    "tags": []
   },
   "source": [
    "### Plot total potential and local potential"
   ]
  },
  {
   "cell_type": "code",
   "execution_count": 13,
   "id": "d87d3d91-9d92-49b7-b22f-0856da953a09",
   "metadata": {
    "tags": []
   },
   "outputs": [],
   "source": [
    "v_loc_3d = driver.data2field(v_loc)\n",
    "v_total_3d = driver.data2field(v_total)"
   ]
  },
  {
   "cell_type": "code",
   "execution_count": 14,
   "id": "ef8b72c5-1b38-46cd-9343-515b646f83e6",
   "metadata": {
    "tags": []
   },
   "outputs": [
    {
     "data": {
      "image/png": "[encoded data removed]",
      "text/plain": [
       "<Figure size 960x720 with 4 Axes>"
      ]
     },
     "metadata": {},
     "output_type": "display_data"
    }
   ],
   "source": [
    "import matplotlib.pyplot as plt\n",
    "\n",
    "fig, axs = plt.subplots(1,2)\n",
    "\n",
    "im=axs[0].imshow(v_total_3d[0], vmin=-30, vmax=0.0)\n",
    "fig.colorbar(im, ax=axs[0], fraction=0.04)\n",
    "\n",
    "im=axs[1].imshow(v_loc_3d[0], vmin=-30, vmax=0.0)\n",
    "fig.colorbar(im, ax=axs[1], fraction=0.04)\n",
    "\n",
    "plt.subplots_adjust(wspace=0.4)"
   ]
  }
 ],
 "metadata": {
  "kernelspec": {
   "display_name": "Python 3 (ipykernel)",
   "language": "python",
   "name": "python3"
  },
  "language_info": {
   "codemirror_mode": {
    "name": "ipython",
    "version": 3
   },
   "file_extension": ".py",
   "mimetype": "text/x-python",
   "name": "python",
   "nbconvert_exporter": "python",
   "pygments_lexer": "ipython3",
   "version": "3.10.6"
  }
 },
 "nbformat": 4,
 "nbformat_minor": 5
}
